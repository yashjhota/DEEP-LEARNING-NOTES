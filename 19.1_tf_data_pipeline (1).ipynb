{
  "cells": [
    {
      "cell_type": "code",
      "source": [
        "!pip install tensorflow"
      ],
      "metadata": {
        "colab": {
          "base_uri": "https://localhost:8080/"
        },
        "id": "j4Ql4MH5Ktq6",
        "outputId": "04204754-5ffa-4c00-dfb2-052f8b357454"
      },
      "execution_count": 3,
      "outputs": [
        {
          "output_type": "stream",
          "name": "stdout",
          "text": [
            "Collecting tensorflow\n",
            "  Downloading tensorflow-2.19.0-cp311-cp311-manylinux_2_17_x86_64.manylinux2014_x86_64.whl.metadata (4.1 kB)\n",
            "Requirement already satisfied: absl-py>=1.0.0 in /usr/local/lib/python3.11/dist-packages (from tensorflow) (1.4.0)\n",
            "Collecting astunparse>=1.6.0 (from tensorflow)\n",
            "  Downloading astunparse-1.6.3-py2.py3-none-any.whl.metadata (4.4 kB)\n",
            "Collecting flatbuffers>=24.3.25 (from tensorflow)\n",
            "  Downloading flatbuffers-25.2.10-py2.py3-none-any.whl.metadata (875 bytes)\n",
            "Requirement already satisfied: gast!=0.5.0,!=0.5.1,!=0.5.2,>=0.2.1 in /usr/local/lib/python3.11/dist-packages (from tensorflow) (0.6.0)\n",
            "Collecting google-pasta>=0.1.1 (from tensorflow)\n",
            "  Downloading google_pasta-0.2.0-py3-none-any.whl.metadata (814 bytes)\n",
            "Collecting libclang>=13.0.0 (from tensorflow)\n",
            "  Downloading libclang-18.1.1-py2.py3-none-manylinux2010_x86_64.whl.metadata (5.2 kB)\n",
            "Requirement already satisfied: opt-einsum>=2.3.2 in /usr/local/lib/python3.11/dist-packages (from tensorflow) (3.4.0)\n",
            "Requirement already satisfied: packaging in /usr/local/lib/python3.11/dist-packages (from tensorflow) (24.2)\n",
            "Requirement already satisfied: protobuf!=4.21.0,!=4.21.1,!=4.21.2,!=4.21.3,!=4.21.4,!=4.21.5,<6.0.0dev,>=3.20.3 in /usr/local/lib/python3.11/dist-packages (from tensorflow) (5.29.4)\n",
            "Requirement already satisfied: requests<3,>=2.21.0 in /usr/local/lib/python3.11/dist-packages (from tensorflow) (2.32.3)\n",
            "Requirement already satisfied: setuptools in /usr/local/lib/python3.11/dist-packages (from tensorflow) (75.2.0)\n",
            "Requirement already satisfied: six>=1.12.0 in /usr/local/lib/python3.11/dist-packages (from tensorflow) (1.17.0)\n",
            "Requirement already satisfied: termcolor>=1.1.0 in /usr/local/lib/python3.11/dist-packages (from tensorflow) (3.0.1)\n",
            "Requirement already satisfied: typing-extensions>=3.6.6 in /usr/local/lib/python3.11/dist-packages (from tensorflow) (4.13.1)\n",
            "Requirement already satisfied: wrapt>=1.11.0 in /usr/local/lib/python3.11/dist-packages (from tensorflow) (1.17.2)\n",
            "Requirement already satisfied: grpcio<2.0,>=1.24.3 in /usr/local/lib/python3.11/dist-packages (from tensorflow) (1.71.0)\n",
            "Collecting tensorboard~=2.19.0 (from tensorflow)\n",
            "  Downloading tensorboard-2.19.0-py3-none-any.whl.metadata (1.8 kB)\n",
            "Requirement already satisfied: keras>=3.5.0 in /usr/local/lib/python3.11/dist-packages (from tensorflow) (3.8.0)\n",
            "Requirement already satisfied: numpy<2.2.0,>=1.26.0 in /usr/local/lib/python3.11/dist-packages (from tensorflow) (2.0.2)\n",
            "Requirement already satisfied: h5py>=3.11.0 in /usr/local/lib/python3.11/dist-packages (from tensorflow) (3.13.0)\n",
            "Requirement already satisfied: ml-dtypes<1.0.0,>=0.5.1 in /usr/local/lib/python3.11/dist-packages (from tensorflow) (0.5.1)\n",
            "Collecting tensorflow-io-gcs-filesystem>=0.23.1 (from tensorflow)\n",
            "  Downloading tensorflow_io_gcs_filesystem-0.37.1-cp311-cp311-manylinux_2_17_x86_64.manylinux2014_x86_64.whl.metadata (14 kB)\n",
            "Collecting wheel<1.0,>=0.23.0 (from astunparse>=1.6.0->tensorflow)\n",
            "  Downloading wheel-0.45.1-py3-none-any.whl.metadata (2.3 kB)\n",
            "Requirement already satisfied: rich in /usr/local/lib/python3.11/dist-packages (from keras>=3.5.0->tensorflow) (14.0.0)\n",
            "Requirement already satisfied: namex in /usr/local/lib/python3.11/dist-packages (from keras>=3.5.0->tensorflow) (0.0.8)\n",
            "Requirement already satisfied: optree in /usr/local/lib/python3.11/dist-packages (from keras>=3.5.0->tensorflow) (0.15.0)\n",
            "Requirement already satisfied: charset-normalizer<4,>=2 in /usr/local/lib/python3.11/dist-packages (from requests<3,>=2.21.0->tensorflow) (3.4.1)\n",
            "Requirement already satisfied: idna<4,>=2.5 in /usr/local/lib/python3.11/dist-packages (from requests<3,>=2.21.0->tensorflow) (3.10)\n",
            "Requirement already satisfied: urllib3<3,>=1.21.1 in /usr/local/lib/python3.11/dist-packages (from requests<3,>=2.21.0->tensorflow) (2.3.0)\n",
            "Requirement already satisfied: certifi>=2017.4.17 in /usr/local/lib/python3.11/dist-packages (from requests<3,>=2.21.0->tensorflow) (2025.1.31)\n",
            "Requirement already satisfied: markdown>=2.6.8 in /usr/lib/python3/dist-packages (from tensorboard~=2.19.0->tensorflow) (3.3.6)\n",
            "Collecting tensorboard-data-server<0.8.0,>=0.7.0 (from tensorboard~=2.19.0->tensorflow)\n",
            "  Downloading tensorboard_data_server-0.7.2-py3-none-manylinux_2_31_x86_64.whl.metadata (1.1 kB)\n",
            "Collecting werkzeug>=1.0.1 (from tensorboard~=2.19.0->tensorflow)\n",
            "  Downloading werkzeug-3.1.3-py3-none-any.whl.metadata (3.7 kB)\n",
            "Requirement already satisfied: MarkupSafe>=2.1.1 in /usr/local/lib/python3.11/dist-packages (from werkzeug>=1.0.1->tensorboard~=2.19.0->tensorflow) (3.0.2)\n",
            "Requirement already satisfied: markdown-it-py>=2.2.0 in /usr/local/lib/python3.11/dist-packages (from rich->keras>=3.5.0->tensorflow) (3.0.0)\n",
            "Requirement already satisfied: pygments<3.0.0,>=2.13.0 in /usr/local/lib/python3.11/dist-packages (from rich->keras>=3.5.0->tensorflow) (2.19.1)\n",
            "Requirement already satisfied: mdurl~=0.1 in /usr/local/lib/python3.11/dist-packages (from markdown-it-py>=2.2.0->rich->keras>=3.5.0->tensorflow) (0.1.2)\n",
            "Downloading tensorflow-2.19.0-cp311-cp311-manylinux_2_17_x86_64.manylinux2014_x86_64.whl (644.9 MB)\n",
            "\u001b[2K   \u001b[90m━━━━━━━━━━━━━━━━━━━━━━━━━━━━━━━━━━━━━━━\u001b[0m \u001b[32m644.9/644.9 MB\u001b[0m \u001b[31m981.2 kB/s\u001b[0m eta \u001b[36m0:00:00\u001b[0m\n",
            "\u001b[?25hDownloading astunparse-1.6.3-py2.py3-none-any.whl (12 kB)\n",
            "Downloading flatbuffers-25.2.10-py2.py3-none-any.whl (30 kB)\n",
            "Downloading google_pasta-0.2.0-py3-none-any.whl (57 kB)\n",
            "\u001b[2K   \u001b[90m━━━━━━━━━━━━━━━━━━━━━━━━━━━━━━━━━━━━━━━━\u001b[0m \u001b[32m57.5/57.5 kB\u001b[0m \u001b[31m4.5 MB/s\u001b[0m eta \u001b[36m0:00:00\u001b[0m\n",
            "\u001b[?25hDownloading libclang-18.1.1-py2.py3-none-manylinux2010_x86_64.whl (24.5 MB)\n",
            "\u001b[2K   \u001b[90m━━━━━━━━━━━━━━━━━━━━━━━━━━━━━━━━━━━━━━━━\u001b[0m \u001b[32m24.5/24.5 MB\u001b[0m \u001b[31m43.9 MB/s\u001b[0m eta \u001b[36m0:00:00\u001b[0m\n",
            "\u001b[?25hDownloading tensorboard-2.19.0-py3-none-any.whl (5.5 MB)\n",
            "\u001b[2K   \u001b[90m━━━━━━━━━━━━━━━━━━━━━━━━━━━━━━━━━━━━━━━━\u001b[0m \u001b[32m5.5/5.5 MB\u001b[0m \u001b[31m61.9 MB/s\u001b[0m eta \u001b[36m0:00:00\u001b[0m\n",
            "\u001b[?25hDownloading tensorflow_io_gcs_filesystem-0.37.1-cp311-cp311-manylinux_2_17_x86_64.manylinux2014_x86_64.whl (5.1 MB)\n",
            "\u001b[2K   \u001b[90m━━━━━━━━━━━━━━━━━━━━━━━━━━━━━━━━━━━━━━━━\u001b[0m \u001b[32m5.1/5.1 MB\u001b[0m \u001b[31m63.2 MB/s\u001b[0m eta \u001b[36m0:00:00\u001b[0m\n",
            "\u001b[?25hDownloading tensorboard_data_server-0.7.2-py3-none-manylinux_2_31_x86_64.whl (6.6 MB)\n",
            "\u001b[2K   \u001b[90m━━━━━━━━━━━━━━━━━━━━━━━━━━━━━━━━━━━━━━━━\u001b[0m \u001b[32m6.6/6.6 MB\u001b[0m \u001b[31m71.3 MB/s\u001b[0m eta \u001b[36m0:00:00\u001b[0m\n",
            "\u001b[?25hDownloading werkzeug-3.1.3-py3-none-any.whl (224 kB)\n",
            "\u001b[2K   \u001b[90m━━━━━━━━━━━━━━━━━━━━━━━━━━━━━━━━━━━━━━━━\u001b[0m \u001b[32m224.5/224.5 kB\u001b[0m \u001b[31m15.9 MB/s\u001b[0m eta \u001b[36m0:00:00\u001b[0m\n",
            "\u001b[?25hDownloading wheel-0.45.1-py3-none-any.whl (72 kB)\n",
            "\u001b[2K   \u001b[90m━━━━━━━━━━━━━━━━━━━━━━━━━━━━━━━━━━━━━━━━\u001b[0m \u001b[32m72.5/72.5 kB\u001b[0m \u001b[31m4.8 MB/s\u001b[0m eta \u001b[36m0:00:00\u001b[0m\n",
            "\u001b[?25hInstalling collected packages: libclang, flatbuffers, wheel, werkzeug, tensorflow-io-gcs-filesystem, tensorboard-data-server, google-pasta, tensorboard, astunparse, tensorflow\n",
            "Successfully installed astunparse-1.6.3 flatbuffers-25.2.10 google-pasta-0.2.0 libclang-18.1.1 tensorboard-2.19.0 tensorboard-data-server-0.7.2 tensorflow-2.19.0 tensorflow-io-gcs-filesystem-0.37.1 werkzeug-3.1.3 wheel-0.45.1\n"
          ]
        }
      ]
    },
    {
      "cell_type": "code",
      "source": [
        "# Before this import kaggle.json file first\n",
        "\n",
        "!mkdir -p ~/.kaggle\n",
        "!cp kaggle.json ~/.kaggle/\n",
        "\n",
        "!kaggle datasets download -d arjuntejaswi/plant-village\n",
        "\n",
        "import zipfile\n",
        "zip_ref = zipfile.ZipFile('/content/plant-village.zip', 'r')\n",
        "zip_ref.extractall('/content')\n",
        "zip_ref.close()"
      ],
      "metadata": {
        "colab": {
          "base_uri": "https://localhost:8080/"
        },
        "id": "tvtcrLTnKntG",
        "outputId": "5ef81717-1688-42cd-b001-3e32ec691eb6"
      },
      "execution_count": 4,
      "outputs": [
        {
          "output_type": "stream",
          "name": "stdout",
          "text": [
            "Warning: Your Kaggle API key is readable by other users on this system! To fix this, you can run 'chmod 600 /root/.kaggle/kaggle.json'\n",
            "Dataset URL: https://www.kaggle.com/datasets/arjuntejaswi/plant-village\n",
            "License(s): unknown\n",
            "plant-village.zip: Skipping, found more recently modified local copy (use --force to force download)\n"
          ]
        }
      ]
    },
    {
      "cell_type": "code",
      "execution_count": 5,
      "metadata": {
        "id": "uQ0UmUOyKf7L"
      },
      "outputs": [],
      "source": [
        "import tensorflow as tf"
      ]
    },
    {
      "cell_type": "markdown",
      "metadata": {
        "id": "Ou8Au8FmKf7M"
      },
      "source": [
        "<h3 style='color:purple'>Create tf dataset from a list</h3>"
      ]
    },
    {
      "cell_type": "code",
      "execution_count": 6,
      "metadata": {
        "scrolled": true,
        "colab": {
          "base_uri": "https://localhost:8080/"
        },
        "id": "eiuOCioQKf7N",
        "outputId": "180e01ad-7bb9-4c3a-a9bd-4de4e89dc26e"
      },
      "outputs": [
        {
          "output_type": "execute_result",
          "data": {
            "text/plain": [
              "<_TensorSliceDataset element_spec=TensorSpec(shape=(), dtype=tf.int32, name=None)>"
            ]
          },
          "metadata": {},
          "execution_count": 6
        }
      ],
      "source": [
        "daily_sales_numbers = [21, 22, -108, 31, -1, 32, 34,31]\n",
        "\n",
        "tf_dataset = tf.data.Dataset.from_tensor_slices(daily_sales_numbers)\n",
        "tf_dataset"
      ]
    },
    {
      "cell_type": "markdown",
      "metadata": {
        "id": "ZJeqIOrPKf7O"
      },
      "source": [
        "<h3 style='color:purple'>Iterate through tf dataset</h3>"
      ]
    },
    {
      "cell_type": "code",
      "execution_count": 7,
      "metadata": {
        "scrolled": true,
        "colab": {
          "base_uri": "https://localhost:8080/"
        },
        "id": "mLxsVIesKf7P",
        "outputId": "f9982222-bf37-4dd6-ec8a-8fee7b8c27c1"
      },
      "outputs": [
        {
          "output_type": "stream",
          "name": "stdout",
          "text": [
            "21\n",
            "22\n",
            "-108\n",
            "31\n",
            "-1\n",
            "32\n",
            "34\n",
            "31\n"
          ]
        }
      ],
      "source": [
        "for sales in tf_dataset:\n",
        "    print(sales.numpy())"
      ]
    },
    {
      "cell_type": "markdown",
      "metadata": {
        "id": "JUWb-keZKf7P"
      },
      "source": [
        "<h3 style='color:purple'>Iterate through elements as numpy elements</h3>"
      ]
    },
    {
      "cell_type": "code",
      "execution_count": 8,
      "metadata": {
        "colab": {
          "base_uri": "https://localhost:8080/"
        },
        "id": "98oB72zcKf7P",
        "outputId": "c955cef0-4055-4166-c23b-cf747731e2b9"
      },
      "outputs": [
        {
          "output_type": "stream",
          "name": "stdout",
          "text": [
            "21\n",
            "22\n",
            "-108\n",
            "31\n",
            "-1\n",
            "32\n",
            "34\n",
            "31\n"
          ]
        }
      ],
      "source": [
        "for sales in tf_dataset.as_numpy_iterator():\n",
        "    print(sales)"
      ]
    },
    {
      "cell_type": "markdown",
      "metadata": {
        "id": "M_eIsbOuKf7Q"
      },
      "source": [
        "<h3 style='color:purple'>Iterate through first n elements in tf dataset</h3>"
      ]
    },
    {
      "cell_type": "code",
      "execution_count": 9,
      "metadata": {
        "scrolled": true,
        "colab": {
          "base_uri": "https://localhost:8080/"
        },
        "id": "FzWZBJrqKf7Q",
        "outputId": "bf0feeba-3496-47fe-fd58-6f6b03fe6015"
      },
      "outputs": [
        {
          "output_type": "stream",
          "name": "stdout",
          "text": [
            "21\n",
            "22\n",
            "-108\n"
          ]
        }
      ],
      "source": [
        "for sales in tf_dataset.take(3):\n",
        "    print(sales.numpy())"
      ]
    },
    {
      "cell_type": "markdown",
      "metadata": {
        "id": "dz9bJIZ7Kf7Q"
      },
      "source": [
        "<h3 style='color:purple'>Filter sales numbers that are < 0</h3>"
      ]
    },
    {
      "cell_type": "code",
      "execution_count": 10,
      "metadata": {
        "scrolled": false,
        "colab": {
          "base_uri": "https://localhost:8080/"
        },
        "id": "-fcyoc8CKf7Q",
        "outputId": "959dd542-219f-45a7-f298-5bcbbdb26365"
      },
      "outputs": [
        {
          "output_type": "stream",
          "name": "stdout",
          "text": [
            "21\n",
            "22\n",
            "31\n",
            "32\n",
            "34\n",
            "31\n"
          ]
        }
      ],
      "source": [
        "tf_dataset = tf_dataset.filter(lambda x: x>0)\n",
        "for sales in tf_dataset.as_numpy_iterator():\n",
        "    print(sales)"
      ]
    },
    {
      "cell_type": "markdown",
      "metadata": {
        "id": "te_VesVcKf7R"
      },
      "source": [
        "<h3 style='color:purple'>Convert sales numbers from USA dollars ($) to Indian Rupees (INR) Assuming 1->72 conversation rate</h3>"
      ]
    },
    {
      "cell_type": "code",
      "execution_count": 11,
      "metadata": {
        "scrolled": false,
        "colab": {
          "base_uri": "https://localhost:8080/"
        },
        "id": "RUhRqU5OKf7R",
        "outputId": "796e6ccb-4d3e-4e49-e2cc-f70b31ee9c52"
      },
      "outputs": [
        {
          "output_type": "stream",
          "name": "stdout",
          "text": [
            "1512\n",
            "1584\n",
            "2232\n",
            "2304\n",
            "2448\n",
            "2232\n"
          ]
        }
      ],
      "source": [
        "tf_dataset = tf_dataset.map(lambda x: x*72)\n",
        "for sales in tf_dataset.as_numpy_iterator():\n",
        "    print(sales)"
      ]
    },
    {
      "cell_type": "markdown",
      "metadata": {
        "id": "tnt8JCLbKf7R"
      },
      "source": [
        "<h3 style='color:purple'>Shuffe</h3>"
      ]
    },
    {
      "cell_type": "code",
      "execution_count": 12,
      "metadata": {
        "colab": {
          "base_uri": "https://localhost:8080/"
        },
        "id": "w0sS6f9OKf7R",
        "outputId": "115b1f17-cc0e-46ae-e221-e60d9e2ea597"
      },
      "outputs": [
        {
          "output_type": "stream",
          "name": "stdout",
          "text": [
            "1584\n",
            "1512\n",
            "2304\n",
            "2448\n",
            "2232\n",
            "2232\n"
          ]
        }
      ],
      "source": [
        "tf_dataset = tf_dataset.shuffle(2)\n",
        "for sales in tf_dataset.as_numpy_iterator():\n",
        "    print(sales)"
      ]
    },
    {
      "cell_type": "markdown",
      "metadata": {
        "id": "RdA3wF65Kf7R"
      },
      "source": [
        "https://stackoverflow.com/questions/53514495/what-does-batch-repeat-and-shuffle-do-with-tensorflow-dataset"
      ]
    },
    {
      "cell_type": "markdown",
      "metadata": {
        "id": "tUyR9apsKf7R"
      },
      "source": [
        "<h3 style='color:purple'>Batching</h3>"
      ]
    },
    {
      "cell_type": "code",
      "execution_count": 13,
      "metadata": {
        "scrolled": true,
        "colab": {
          "base_uri": "https://localhost:8080/"
        },
        "id": "Nm0ef_PHKf7S",
        "outputId": "ac49652c-be4b-4708-c8ff-bb52b6a91684"
      },
      "outputs": [
        {
          "output_type": "stream",
          "name": "stdout",
          "text": [
            "[1512 1584]\n",
            "[2232 2448]\n",
            "[2304 2232]\n"
          ]
        }
      ],
      "source": [
        "for sales_batch in tf_dataset.batch(2):\n",
        "    print(sales_batch.numpy())"
      ]
    },
    {
      "cell_type": "markdown",
      "metadata": {
        "id": "9eB4_GldKf7S"
      },
      "source": [
        "<h3 style='color:purple'>Perform all of the above operations in one shot</h3>"
      ]
    },
    {
      "cell_type": "code",
      "execution_count": 14,
      "metadata": {
        "scrolled": true,
        "colab": {
          "base_uri": "https://localhost:8080/"
        },
        "id": "qSwPXwciKf7S",
        "outputId": "83520f33-424d-4038-b6b0-2ff92085bb55"
      },
      "outputs": [
        {
          "output_type": "stream",
          "name": "stdout",
          "text": [
            "[1584 2232]\n",
            "[2304 2448]\n",
            "[2232 1512]\n"
          ]
        }
      ],
      "source": [
        "tf_dataset = tf.data.Dataset.from_tensor_slices(daily_sales_numbers)\n",
        "\n",
        "tf_dataset = tf_dataset.filter(lambda x: x>0).map(lambda y: y*72).shuffle(2).batch(2)\n",
        "for sales in tf_dataset.as_numpy_iterator():\n",
        "    print(sales)"
      ]
    },
    {
      "cell_type": "markdown",
      "metadata": {
        "id": "UtDL8LCMKf7S"
      },
      "source": [
        "<h3>Images</h3>"
      ]
    },
    {
      "cell_type": "code",
      "source": [
        "import tensorflow as tf\n",
        "\n",
        "# Replace this line:\n",
        "# images_ds = tf.data.Dataset.list_files('/content/PlantVillage/*/*', shuffle=True)\n",
        "\n",
        "# With these lines:\n",
        "img_height = 128\n",
        "img_width = 128\n",
        "train_ds = tf.keras.utils.image_dataset_from_directory(\n",
        "    '/content/PlantVillage',\n",
        "    labels='inferred',\n",
        "    label_mode='categorical',\n",
        "    image_size=(img_height, img_width),\n",
        "    interpolation='nearest',\n",
        "    batch_size=64,\n",
        "    shuffle=True\n",
        ")\n",
        "\n",
        "class_names = train_ds.class_names\n",
        "print(class_names)"
      ],
      "metadata": {
        "id": "Tp33lKw4L9ou"
      },
      "execution_count": null,
      "outputs": []
    },
    {
      "cell_type": "code",
      "execution_count": 23,
      "metadata": {
        "id": "Nl55zcjuKf7S"
      },
      "outputs": [],
      "source": [
        "images_ds = tf.data.Dataset.list_files('/content/PlantVillage/*/*', shuffle=True)"
      ]
    },
    {
      "cell_type": "code",
      "execution_count": 24,
      "metadata": {
        "colab": {
          "base_uri": "https://localhost:8080/"
        },
        "id": "YiAghaeSKf7T",
        "outputId": "359a3187-1be3-4575-8e40-e2b7c7cb4fde"
      },
      "outputs": [
        {
          "output_type": "execute_result",
          "data": {
            "text/plain": [
              "20639"
            ]
          },
          "metadata": {},
          "execution_count": 24
        }
      ],
      "source": [
        "image_count = len(images_ds)\n",
        "image_count"
      ]
    },
    {
      "cell_type": "code",
      "execution_count": 25,
      "metadata": {
        "colab": {
          "base_uri": "https://localhost:8080/",
          "height": 121
        },
        "id": "0bwQqW0NKf7T",
        "outputId": "cdee938f-7351-49c7-87a5-c617b1a7675b"
      },
      "outputs": [
        {
          "output_type": "execute_result",
          "data": {
            "text/plain": [
              "tensorflow.python.data.ops.shuffle_op._ShuffleDataset"
            ],
            "text/html": [
              "<div style=\"max-width:800px; border: 1px solid var(--colab-border-color);\"><style>\n",
              "      pre.function-repr-contents {\n",
              "        overflow-x: auto;\n",
              "        padding: 8px 12px;\n",
              "        max-height: 500px;\n",
              "      }\n",
              "\n",
              "      pre.function-repr-contents.function-repr-contents-collapsed {\n",
              "        cursor: pointer;\n",
              "        max-height: 100px;\n",
              "      }\n",
              "    </style>\n",
              "    <pre style=\"white-space: initial; background:\n",
              "         var(--colab-secondary-surface-color); padding: 8px 12px;\n",
              "         border-bottom: 1px solid var(--colab-border-color);\"><b>tensorflow.python.data.ops.shuffle_op._ShuffleDataset</b><br/>def __init__(input_dataset, buffer_size, seed=None, reshuffle_each_iteration=True, name=None)</pre><pre class=\"function-repr-contents function-repr-contents-collapsed\" style=\"\"><a class=\"filepath\" style=\"display:none\" href=\"#\">/usr/local/lib/python3.11/dist-packages/tensorflow/python/data/ops/shuffle_op.py</a>A `Dataset` that randomly shuffles the elements of its input.</pre>\n",
              "      <script>\n",
              "      if (google.colab.kernel.accessAllowed && google.colab.files && google.colab.files.view) {\n",
              "        for (const element of document.querySelectorAll('.filepath')) {\n",
              "          element.style.display = 'block'\n",
              "          element.onclick = (event) => {\n",
              "            event.preventDefault();\n",
              "            event.stopPropagation();\n",
              "            google.colab.files.view(element.textContent, 36);\n",
              "          };\n",
              "        }\n",
              "      }\n",
              "      for (const element of document.querySelectorAll('.function-repr-contents')) {\n",
              "        element.onclick = (event) => {\n",
              "          event.preventDefault();\n",
              "          event.stopPropagation();\n",
              "          element.classList.toggle('function-repr-contents-collapsed');\n",
              "        };\n",
              "      }\n",
              "      </script>\n",
              "      </div>"
            ]
          },
          "metadata": {},
          "execution_count": 25
        }
      ],
      "source": [
        "type(images_ds)"
      ]
    },
    {
      "cell_type": "code",
      "execution_count": 26,
      "metadata": {
        "colab": {
          "base_uri": "https://localhost:8080/"
        },
        "id": "ksLCJ7SvKf7T",
        "outputId": "204f1e4e-38ae-4f80-d632-a7addffa6893"
      },
      "outputs": [
        {
          "output_type": "stream",
          "name": "stdout",
          "text": [
            "b'/content/PlantVillage/Tomato_healthy/6270efe7-db0f-4953-a7c7-eb86bb8967dd___RS_HL 9761.JPG'\n",
            "b'/content/PlantVillage/Potato___Late_blight/547d3544-5e37-484b-a853-254376c49081___RS_LB 2556.JPG'\n",
            "b'/content/PlantVillage/Tomato__Target_Spot/d7b51750-838a-4abb-9d0a-d56bc5a64df2___Com.G_TgS_FL 0021.JPG'\n"
          ]
        }
      ],
      "source": [
        "for file in images_ds.take(3):\n",
        "    print(file.numpy())"
      ]
    },
    {
      "cell_type": "code",
      "execution_count": 27,
      "metadata": {
        "colab": {
          "base_uri": "https://localhost:8080/"
        },
        "id": "DYgHhEt0Kf7T",
        "outputId": "fda97129-0b6e-4c9e-ad88-fc3f86ce48fb"
      },
      "outputs": [
        {
          "output_type": "stream",
          "name": "stdout",
          "text": [
            "b'/content/PlantVillage/Tomato__Tomato_YellowLeaf__Curl_Virus/5fb985f8-4599-4275-aa1c-f9accb2d0bd3___UF.GRC_YLCV_Lab 08527.JPG'\n",
            "b'/content/PlantVillage/Tomato_Septoria_leaf_spot/04840559-16ed-4f17-908b-2048ba83ab80___Keller.St_CG 1780.JPG'\n",
            "b'/content/PlantVillage/Tomato_Late_blight/a3deb552-d098-4b15-992a-d6f2fc49ae4c___GHLB2 Leaf 109.1.JPG'\n"
          ]
        }
      ],
      "source": [
        "images_ds = images_ds.shuffle(200)\n",
        "for file in images_ds.take(3):\n",
        "    print(file.numpy())"
      ]
    },
    {
      "cell_type": "code",
      "source": [
        "import os\n",
        "class_names = sorted(os.listdir('/content/PlantVillage'))"
      ],
      "metadata": {
        "id": "mbZnnmj5LikZ"
      },
      "execution_count": 30,
      "outputs": []
    },
    {
      "cell_type": "code",
      "source": [
        "print(class_names)"
      ],
      "metadata": {
        "colab": {
          "base_uri": "https://localhost:8080/"
        },
        "id": "v-TW9gC3MJT-",
        "outputId": "af139870-b443-4a93-901d-1874a763e5c6"
      },
      "execution_count": 31,
      "outputs": [
        {
          "output_type": "stream",
          "name": "stdout",
          "text": [
            "['Pepper__bell___Bacterial_spot', 'Pepper__bell___healthy', 'Potato___Early_blight', 'Potato___Late_blight', 'Potato___healthy', 'Tomato_Bacterial_spot', 'Tomato_Early_blight', 'Tomato_Late_blight', 'Tomato_Leaf_Mold', 'Tomato_Septoria_leaf_spot', 'Tomato_Spider_mites_Two_spotted_spider_mite', 'Tomato__Target_Spot', 'Tomato__Tomato_YellowLeaf__Curl_Virus', 'Tomato__Tomato_mosaic_virus', 'Tomato_healthy']\n"
          ]
        }
      ]
    },
    {
      "cell_type": "code",
      "source": [
        "len(class_names)"
      ],
      "metadata": {
        "colab": {
          "base_uri": "https://localhost:8080/"
        },
        "id": "JLqrRZ_mMUN0",
        "outputId": "84f03c2a-4ac8-454b-d31e-0c7ebb13e9a2"
      },
      "execution_count": 32,
      "outputs": [
        {
          "output_type": "execute_result",
          "data": {
            "text/plain": [
              "15"
            ]
          },
          "metadata": {},
          "execution_count": 32
        }
      ]
    },
    {
      "cell_type": "code",
      "source": [
        "len(images_ds)"
      ],
      "metadata": {
        "colab": {
          "base_uri": "https://localhost:8080/"
        },
        "id": "3GNxx4nNMWCP",
        "outputId": "bd560bf2-2f32-4dda-f83f-ddd394d55164"
      },
      "execution_count": 33,
      "outputs": [
        {
          "output_type": "execute_result",
          "data": {
            "text/plain": [
              "20639"
            ]
          },
          "metadata": {},
          "execution_count": 33
        }
      ]
    },
    {
      "cell_type": "code",
      "execution_count": 39,
      "metadata": {
        "id": "b9MRWwWjKf7T"
      },
      "outputs": [],
      "source": [
        "train_size = int(image_count*0.8)\n",
        "train_ds = images_ds.take(train_size)\n",
        "test_ds = images_ds.skip(train_size)"
      ]
    },
    {
      "cell_type": "code",
      "source": [],
      "metadata": {
        "id": "Vz2dFX0sMjI5"
      },
      "execution_count": 38,
      "outputs": []
    },
    {
      "cell_type": "code",
      "execution_count": 40,
      "metadata": {
        "colab": {
          "base_uri": "https://localhost:8080/"
        },
        "id": "2pe_M_HUKf7T",
        "outputId": "1f1876ee-c549-4a36-c5a7-dc87b6eb70c0"
      },
      "outputs": [
        {
          "output_type": "execute_result",
          "data": {
            "text/plain": [
              "16511"
            ]
          },
          "metadata": {},
          "execution_count": 40
        }
      ],
      "source": [
        "len(train_ds)"
      ]
    },
    {
      "cell_type": "code",
      "execution_count": 41,
      "metadata": {
        "colab": {
          "base_uri": "https://localhost:8080/"
        },
        "id": "0c_-_Ut8Kf7U",
        "outputId": "13c6c0c6-0c4e-448f-f1a7-80f9d45877d8"
      },
      "outputs": [
        {
          "output_type": "execute_result",
          "data": {
            "text/plain": [
              "4128"
            ]
          },
          "metadata": {},
          "execution_count": 41
        }
      ],
      "source": [
        "len(test_ds)"
      ]
    },
    {
      "cell_type": "code",
      "execution_count": 42,
      "metadata": {
        "id": "tb43tUUSKf7U"
      },
      "outputs": [],
      "source": [
        "def get_label(file_path):\n",
        "    import os\n",
        "    parts = tf.strings.split(file_path, os.path.sep)\n",
        "    return parts[-2]"
      ]
    },
    {
      "cell_type": "code",
      "execution_count": 50,
      "metadata": {
        "scrolled": true,
        "colab": {
          "base_uri": "https://localhost:8080/"
        },
        "id": "P2sMfBtkKf7U",
        "outputId": "21b47285-f2b0-4b2a-f0d7-0c32f1bf52b6"
      },
      "outputs": [
        {
          "output_type": "stream",
          "name": "stdout",
          "text": [
            "tf.Tensor(b'Tomato_Bacterial_spot', shape=(), dtype=string)\n",
            "tf.Tensor(b'Tomato_Late_blight', shape=(), dtype=string)\n",
            "tf.Tensor(b'Tomato__Target_Spot', shape=(), dtype=string)\n"
          ]
        }
      ],
      "source": [
        "for i in train_ds.map(get_label).take(3):\n",
        "  print(i)"
      ]
    },
    {
      "cell_type": "code",
      "execution_count": 44,
      "metadata": {
        "id": "dQ7PpPv7Kf7U"
      },
      "outputs": [],
      "source": [
        "def process_image(file_path):\n",
        "    label = get_label(file_path)\n",
        "    img = tf.io.read_file(file_path) # load the raw data from the file as a string\n",
        "    img = tf.image.decode_jpeg(img)\n",
        "    img = tf.image.resize(img, [128, 128])\n",
        "    return img, label"
      ]
    },
    {
      "cell_type": "code",
      "source": [
        "for i,j in train_ds.map(process_image).take(3):\n",
        "  print(i,j)"
      ],
      "metadata": {
        "colab": {
          "base_uri": "https://localhost:8080/"
        },
        "id": "nwL2tvJrOC9J",
        "outputId": "ab0b2b18-f955-40ee-e5de-5b241110a8dc"
      },
      "execution_count": 51,
      "outputs": [
        {
          "output_type": "stream",
          "name": "stdout",
          "text": [
            "tf.Tensor(\n",
            "[[[177.   171.   175.  ]\n",
            "  [181.5  175.5  179.5 ]\n",
            "  [179.   173.   177.  ]\n",
            "  ...\n",
            "  [180.   171.   176.  ]\n",
            "  [169.75 160.75 165.75]\n",
            "  [178.75 169.75 174.75]]\n",
            "\n",
            " [[188.   182.   186.  ]\n",
            "  [181.75 175.75 179.75]\n",
            "  [176.25 170.25 174.25]\n",
            "  ...\n",
            "  [174.25 165.25 170.25]\n",
            "  [170.75 161.75 166.75]\n",
            "  [179.5  170.5  175.5 ]]\n",
            "\n",
            " [[179.75 173.75 177.75]\n",
            "  [181.25 175.25 179.25]\n",
            "  [181.75 175.75 179.75]\n",
            "  ...\n",
            "  [168.75 159.75 164.75]\n",
            "  [170.75 161.75 166.75]\n",
            "  [174.5  165.5  170.5 ]]\n",
            "\n",
            " ...\n",
            "\n",
            " [[101.25  89.25  89.25]\n",
            "  [103.5   91.5   91.5 ]\n",
            "  [114.25 102.25 102.25]\n",
            "  ...\n",
            "  [115.   103.   103.  ]\n",
            "  [102.5   90.5   90.5 ]\n",
            "  [104.25  92.25  92.25]]\n",
            "\n",
            " [[108.75  96.75  96.75]\n",
            "  [116.75 104.75 104.75]\n",
            "  [115.5  103.5  103.5 ]\n",
            "  ...\n",
            "  [ 99.25  87.25  87.25]\n",
            "  [108.    96.    96.  ]\n",
            "  [ 98.75  86.75  86.75]]\n",
            "\n",
            " [[100.75  88.75  88.75]\n",
            "  [117.   105.   105.  ]\n",
            "  [116.5  104.5  104.5 ]\n",
            "  ...\n",
            "  [104.25  92.25  92.25]\n",
            "  [ 93.25  81.25  81.25]\n",
            "  [ 99.75  87.75  87.75]]], shape=(128, 128, 3), dtype=float32) tf.Tensor(b'Tomato_Spider_mites_Two_spotted_spider_mite', shape=(), dtype=string)\n",
            "tf.Tensor(\n",
            "[[[152.   141.   145.  ]\n",
            "  [162.75 151.75 155.75]\n",
            "  [162.75 151.75 155.75]\n",
            "  ...\n",
            "  [138.   126.   130.  ]\n",
            "  [136.5  124.5  128.5 ]\n",
            "  [119.   107.   111.  ]]\n",
            "\n",
            " [[165.   154.   158.  ]\n",
            "  [160.25 149.25 153.25]\n",
            "  [162.5  151.5  155.5 ]\n",
            "  ...\n",
            "  [123.5  111.5  115.5 ]\n",
            "  [123.75 111.75 115.75]\n",
            "  [136.75 124.75 128.75]]\n",
            "\n",
            " [[161.75 150.75 154.75]\n",
            "  [168.25 157.25 161.25]\n",
            "  [173.25 162.25 166.25]\n",
            "  ...\n",
            "  [138.5  126.5  130.5 ]\n",
            "  [123.75 111.75 115.75]\n",
            "  [154.   142.   146.  ]]\n",
            "\n",
            " ...\n",
            "\n",
            " [[182.   171.   175.  ]\n",
            "  [172.   161.   165.  ]\n",
            "  [169.   158.   162.  ]\n",
            "  ...\n",
            "  [130.5  118.5  122.5 ]\n",
            "  [154.5  142.5  146.5 ]\n",
            "  [138.5  126.5  130.5 ]]\n",
            "\n",
            " [[173.25 162.25 166.25]\n",
            "  [173.25 162.25 166.25]\n",
            "  [170.   159.   163.  ]\n",
            "  ...\n",
            "  [119.5  107.5  111.5 ]\n",
            "  [134.25 122.25 126.25]\n",
            "  [123.75 111.75 115.75]]\n",
            "\n",
            " [[166.25 155.25 159.25]\n",
            "  [166.75 155.75 159.75]\n",
            "  [163.75 152.75 156.75]\n",
            "  ...\n",
            "  [139.75 127.75 131.75]\n",
            "  [112.25 100.25 104.25]\n",
            "  [128.75 116.75 120.75]]], shape=(128, 128, 3), dtype=float32) tf.Tensor(b'Tomato_Spider_mites_Two_spotted_spider_mite', shape=(), dtype=string)\n",
            "tf.Tensor(\n",
            "[[[161.75 150.75 166.75]\n",
            "  [170.   159.   175.  ]\n",
            "  [161.75 150.75 166.75]\n",
            "  ...\n",
            "  [156.75 145.75 159.75]\n",
            "  [166.   155.   169.  ]\n",
            "  [169.25 158.25 172.25]]\n",
            "\n",
            " [[144.75 133.75 149.75]\n",
            "  [164.75 153.75 169.75]\n",
            "  [157.   146.   162.  ]\n",
            "  ...\n",
            "  [145.5  134.5  148.5 ]\n",
            "  [143.75 132.75 146.75]\n",
            "  [152.5  141.5  155.5 ]]\n",
            "\n",
            " [[149.5  138.5  154.5 ]\n",
            "  [166.75 155.75 171.75]\n",
            "  [169.   158.   174.  ]\n",
            "  ...\n",
            "  [146.25 135.25 149.25]\n",
            "  [144.5  133.5  147.5 ]\n",
            "  [157.   146.   160.  ]]\n",
            "\n",
            " ...\n",
            "\n",
            " [[132.75 115.75 131.75]\n",
            "  [125.25 108.25 124.25]\n",
            "  [128.   111.   127.  ]\n",
            "  ...\n",
            "  [118.75 102.75 115.75]\n",
            "  [102.5   86.5   99.5 ]\n",
            "  [123.   107.   120.  ]]\n",
            "\n",
            " [[126.75 109.75 125.75]\n",
            "  [134.25 117.25 133.25]\n",
            "  [125.75 108.75 124.75]\n",
            "  ...\n",
            "  [103.75  87.75 100.75]\n",
            "  [110.75  94.75 107.75]\n",
            "  [114.25  98.25 111.25]]\n",
            "\n",
            " [[127.75 110.75 126.75]\n",
            "  [115.75  98.75 114.75]\n",
            "  [121.5  104.5  120.5 ]\n",
            "  ...\n",
            "  [120.25 104.25 117.25]\n",
            "  [109.25  93.25 106.25]\n",
            "  [ 99.25  83.25  96.25]]], shape=(128, 128, 3), dtype=float32) tf.Tensor(b'Tomato__Tomato_mosaic_virus', shape=(), dtype=string)\n"
          ]
        }
      ]
    },
    {
      "cell_type": "code",
      "source": [],
      "metadata": {
        "id": "X_4MwNr9OVpi"
      },
      "execution_count": null,
      "outputs": []
    }
  ],
  "metadata": {
    "kernelspec": {
      "display_name": "Python 3",
      "name": "python3"
    },
    "language_info": {
      "codemirror_mode": {
        "name": "ipython",
        "version": 3
      },
      "file_extension": ".py",
      "mimetype": "text/x-python",
      "name": "python",
      "nbconvert_exporter": "python",
      "pygments_lexer": "ipython3",
      "version": "3.8.5"
    },
    "colab": {
      "provenance": [],
      "gpuType": "V28"
    },
    "accelerator": "TPU"
  },
  "nbformat": 4,
  "nbformat_minor": 0
}