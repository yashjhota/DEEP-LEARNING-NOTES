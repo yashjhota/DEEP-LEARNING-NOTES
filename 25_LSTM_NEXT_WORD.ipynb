{
 "cells": [
  {
   "cell_type": "code",
   "execution_count": 4,
   "metadata": {},
   "outputs": [],
   "source": [
    "cpp=\"\"\"In C++, a struct (short for structure) is a user-defined data type that groups related variables (of different data types) under one name. It is similar to a class \n",
    "but has some key differences. By default, the members of a struct are public, whereas in a class, they are private.\n",
    "Members are public by default\n",
    "Unlike classes, struct members do not require an access specifier to be accessed outside the struct.\n",
    "\n",
    "Can have member functions\n",
    "A struct in C++ can contain both data members and functions.\n",
    "\n",
    "Struct vs Class\n",
    "\n",
    "struct is typically used for simple data structures, whereas class is preferred for complex data encapsulation and object-oriented programming.\n",
    "\n",
    "In a struct, members are public by default, whereas in a class, they are private by default.\n",
    "\n",
    "What is static in C++?\n",
    "In C++, the static keyword is used to define variables or functions that belong to the class itself, rather than to any specific object of the class. This means that:\n",
    "\n",
    "A static variable retains its value across multiple function calls.\n",
    "\n",
    "A static function can be called without creating an object of the class.\n",
    "    \n",
    "\n",
    "Why use static?\n",
    "Memory Efficiency: Static members are stored in a fixed location in memory (not duplicated for every object).\n",
    "\n",
    "Access Without an Object: You can call a static method or access a static variable without creating an instance of the class.\n",
    "\n",
    "\n",
    "\n",
    "Shared Data: All objects of the class share the same static member, making it useful for counters, constants, or utility functions.\n",
    "\n",
    "static is useful for tracking shared data (e.g., total accounts, user count, object instances).\n",
    "static functions can be called without creating an object.\n",
    "It reduces memory usage by ensuring only one copy of the variable exists.\"\"\""
   ]
  },
  {
   "cell_type": "code",
   "execution_count": 2,
   "metadata": {},
   "outputs": [],
   "source": [
    "# step 1: tokenize the text\n",
    "import tensorflow as tf\n",
    "from tensorflow.keras.preprocessing.text import Tokenizer"
   ]
  },
  {
   "cell_type": "code",
   "execution_count": 5,
   "metadata": {},
   "outputs": [],
   "source": [
    "tokenizer = Tokenizer()\n",
    "tokenizer.fit_on_texts([cpp])"
   ]
  },
  {
   "cell_type": "code",
   "execution_count": 6,
   "metadata": {},
   "outputs": [
    {
     "data": {
      "text/plain": [
       "{'a': 1,\n",
       " 'static': 2,\n",
       " 'class': 3,\n",
       " 'the': 4,\n",
       " 'in': 5,\n",
       " 'struct': 6,\n",
       " 'is': 7,\n",
       " 'data': 8,\n",
       " 'of': 9,\n",
       " 'object': 10,\n",
       " 'for': 11,\n",
       " 'members': 12,\n",
       " 'are': 13,\n",
       " 'to': 14,\n",
       " 'by': 15,\n",
       " 'an': 16,\n",
       " 'can': 17,\n",
       " 'functions': 18,\n",
       " 'c': 19,\n",
       " 'default': 20,\n",
       " 'without': 21,\n",
       " 'that': 22,\n",
       " 'it': 23,\n",
       " 'public': 24,\n",
       " 'whereas': 25,\n",
       " 'access': 26,\n",
       " 'be': 27,\n",
       " 'or': 28,\n",
       " 'variable': 29,\n",
       " 'creating': 30,\n",
       " 'memory': 31,\n",
       " 'user': 32,\n",
       " 'variables': 33,\n",
       " 'one': 34,\n",
       " 'they': 35,\n",
       " 'private': 36,\n",
       " 'not': 37,\n",
       " 'member': 38,\n",
       " 'and': 39,\n",
       " 'used': 40,\n",
       " 'function': 41,\n",
       " 'called': 42,\n",
       " 'shared': 43,\n",
       " 'useful': 44,\n",
       " 'short': 45,\n",
       " 'structure': 46,\n",
       " 'defined': 47,\n",
       " 'type': 48,\n",
       " 'groups': 49,\n",
       " 'related': 50,\n",
       " 'different': 51,\n",
       " 'types': 52,\n",
       " 'under': 53,\n",
       " 'name': 54,\n",
       " 'similar': 55,\n",
       " 'but': 56,\n",
       " 'has': 57,\n",
       " 'some': 58,\n",
       " 'key': 59,\n",
       " 'differences': 60,\n",
       " 'unlike': 61,\n",
       " 'classes': 62,\n",
       " 'do': 63,\n",
       " 'require': 64,\n",
       " 'specifier': 65,\n",
       " 'accessed': 66,\n",
       " 'outside': 67,\n",
       " 'have': 68,\n",
       " 'contain': 69,\n",
       " 'both': 70,\n",
       " 'vs': 71,\n",
       " 'typically': 72,\n",
       " 'simple': 73,\n",
       " 'structures': 74,\n",
       " 'preferred': 75,\n",
       " 'complex': 76,\n",
       " 'encapsulation': 77,\n",
       " 'oriented': 78,\n",
       " 'programming': 79,\n",
       " 'what': 80,\n",
       " 'keyword': 81,\n",
       " 'define': 82,\n",
       " 'belong': 83,\n",
       " 'itself': 84,\n",
       " 'rather': 85,\n",
       " 'than': 86,\n",
       " 'any': 87,\n",
       " 'specific': 88,\n",
       " 'this': 89,\n",
       " 'means': 90,\n",
       " 'retains': 91,\n",
       " 'its': 92,\n",
       " 'value': 93,\n",
       " 'across': 94,\n",
       " 'multiple': 95,\n",
       " 'calls': 96,\n",
       " 'why': 97,\n",
       " 'use': 98,\n",
       " 'efficiency': 99,\n",
       " 'stored': 100,\n",
       " 'fixed': 101,\n",
       " 'location': 102,\n",
       " 'duplicated': 103,\n",
       " 'every': 104,\n",
       " 'you': 105,\n",
       " 'call': 106,\n",
       " 'method': 107,\n",
       " 'instance': 108,\n",
       " 'all': 109,\n",
       " 'objects': 110,\n",
       " 'share': 111,\n",
       " 'same': 112,\n",
       " 'making': 113,\n",
       " 'counters': 114,\n",
       " 'constants': 115,\n",
       " 'utility': 116,\n",
       " 'tracking': 117,\n",
       " 'e': 118,\n",
       " 'g': 119,\n",
       " 'total': 120,\n",
       " 'accounts': 121,\n",
       " 'count': 122,\n",
       " 'instances': 123,\n",
       " 'reduces': 124,\n",
       " 'usage': 125,\n",
       " 'ensuring': 126,\n",
       " 'only': 127,\n",
       " 'copy': 128,\n",
       " 'exists': 129}"
      ]
     },
     "execution_count": 6,
     "metadata": {},
     "output_type": "execute_result"
    }
   ],
   "source": [
    "tokenizer.word_index"
   ]
  },
  {
   "cell_type": "code",
   "execution_count": 8,
   "metadata": {},
   "outputs": [
    {
     "name": "stdout",
     "output_type": "stream",
     "text": [
      "In C++, a struct (short for structure) is a user-defined data type that groups related variables (of different data types) under one name. It is similar to a class\n",
      "but has some key differences. By default, the members of a struct are public, whereas in a class, they are private.\n",
      "Members are public by default\n",
      "Unlike classes, struct members do not require an access specifier to be accessed outside the struct.\n",
      "\n",
      "Can have member functions\n",
      "A struct in C++ can contain both data members and functions.\n",
      "\n",
      "Struct vs Class\n",
      "\n",
      "struct is typically used for simple data structures, whereas class is preferred for complex data encapsulation and object-oriented programming.\n",
      "\n",
      "In a struct, members are public by default, whereas in a class, they are private by default.\n",
      "\n",
      "What is static in C++?\n",
      "In C++, the static keyword is used to define variables or functions that belong to the class itself, rather than to any specific object of the class. This means that:\n",
      "\n",
      "A static variable retains its value across multiple function calls.\n",
      "\n",
      "A static function can be called without creating an object of the class.\n",
      "\n",
      "\n",
      "Why use static?\n",
      "Memory Efficiency: Static members are stored in a fixed location in memory (not duplicated for every object).\n",
      "\n",
      "Access Without an Object: You can call a static method or access a static variable without creating an instance of the class.\n",
      "\n",
      "\n",
      "\n",
      "Shared Data: All objects of the class share the same static member, making it useful for counters, constants, or utility functions.\n",
      "\n",
      "static is useful for tracking shared data (e.g., total accounts, user count, object instances).\n",
      "static functions can be called without creating an object.\n",
      "It reduces memory usage by ensuring only one copy of the variable exists.\n"
     ]
    }
   ],
   "source": [
    "# step2 : find the sentences in the text\n",
    "\n",
    "for sentence in cpp.split('\\n'):\n",
    "    print(sentence.strip())"
   ]
  },
  {
   "cell_type": "code",
   "execution_count": 9,
   "metadata": {},
   "outputs": [
    {
     "name": "stdout",
     "output_type": "stream",
     "text": [
      "Sentence: In C++, a struct (short for structure) is a user-defined data type that groups related variables (of different data types) under one name. It is similar to a class\n",
      "Sequence: [5, 19, 1, 6, 45, 11, 46, 7, 1, 32, 47, 8, 48, 22, 49, 50, 33, 9, 51, 8, 52, 53, 34, 54, 23, 7, 55, 14, 1, 3]\n",
      "----\n",
      "Sentence: but has some key differences. By default, the members of a struct are public, whereas in a class, they are private.\n",
      "Sequence: [56, 57, 58, 59, 60, 15, 20, 4, 12, 9, 1, 6, 13, 24, 25, 5, 1, 3, 35, 13, 36]\n",
      "----\n",
      "Sentence: Members are public by default\n",
      "Sequence: [12, 13, 24, 15, 20]\n",
      "----\n",
      "Sentence: Unlike classes, struct members do not require an access specifier to be accessed outside the struct.\n",
      "Sequence: [61, 62, 6, 12, 63, 37, 64, 16, 26, 65, 14, 27, 66, 67, 4, 6]\n",
      "----\n",
      "Sentence: \n",
      "Sequence: []\n",
      "----\n",
      "Sentence: Can have member functions\n",
      "Sequence: [17, 68, 38, 18]\n",
      "----\n",
      "Sentence: A struct in C++ can contain both data members and functions.\n",
      "Sequence: [1, 6, 5, 19, 17, 69, 70, 8, 12, 39, 18]\n",
      "----\n",
      "Sentence: \n",
      "Sequence: []\n",
      "----\n",
      "Sentence: Struct vs Class\n",
      "Sequence: [6, 71, 3]\n",
      "----\n",
      "Sentence: \n",
      "Sequence: []\n",
      "----\n",
      "Sentence: struct is typically used for simple data structures, whereas class is preferred for complex data encapsulation and object-oriented programming.\n",
      "Sequence: [6, 7, 72, 40, 11, 73, 8, 74, 25, 3, 7, 75, 11, 76, 8, 77, 39, 10, 78, 79]\n",
      "----\n",
      "Sentence: \n",
      "Sequence: []\n",
      "----\n",
      "Sentence: In a struct, members are public by default, whereas in a class, they are private by default.\n",
      "Sequence: [5, 1, 6, 12, 13, 24, 15, 20, 25, 5, 1, 3, 35, 13, 36, 15, 20]\n",
      "----\n",
      "Sentence: \n",
      "Sequence: []\n",
      "----\n",
      "Sentence: What is static in C++?\n",
      "Sequence: [80, 7, 2, 5, 19]\n",
      "----\n",
      "Sentence: In C++, the static keyword is used to define variables or functions that belong to the class itself, rather than to any specific object of the class. This means that:\n",
      "Sequence: [5, 19, 4, 2, 81, 7, 40, 14, 82, 33, 28, 18, 22, 83, 14, 4, 3, 84, 85, 86, 14, 87, 88, 10, 9, 4, 3, 89, 90, 22]\n",
      "----\n",
      "Sentence: \n",
      "Sequence: []\n",
      "----\n",
      "Sentence: A static variable retains its value across multiple function calls.\n",
      "Sequence: [1, 2, 29, 91, 92, 93, 94, 95, 41, 96]\n",
      "----\n",
      "Sentence: \n",
      "Sequence: []\n",
      "----\n",
      "Sentence: A static function can be called without creating an object of the class.\n",
      "Sequence: [1, 2, 41, 17, 27, 42, 21, 30, 16, 10, 9, 4, 3]\n",
      "----\n",
      "Sentence: \n",
      "Sequence: []\n",
      "----\n",
      "Sentence: \n",
      "Sequence: []\n",
      "----\n",
      "Sentence: Why use static?\n",
      "Sequence: [97, 98, 2]\n",
      "----\n",
      "Sentence: Memory Efficiency: Static members are stored in a fixed location in memory (not duplicated for every object).\n",
      "Sequence: [31, 99, 2, 12, 13, 100, 5, 1, 101, 102, 5, 31, 37, 103, 11, 104, 10]\n",
      "----\n",
      "Sentence: \n",
      "Sequence: []\n",
      "----\n",
      "Sentence: Access Without an Object: You can call a static method or access a static variable without creating an instance of the class.\n",
      "Sequence: [26, 21, 16, 10, 105, 17, 106, 1, 2, 107, 28, 26, 1, 2, 29, 21, 30, 16, 108, 9, 4, 3]\n",
      "----\n",
      "Sentence: \n",
      "Sequence: []\n",
      "----\n",
      "Sentence: \n",
      "Sequence: []\n",
      "----\n",
      "Sentence: \n",
      "Sequence: []\n",
      "----\n",
      "Sentence: Shared Data: All objects of the class share the same static member, making it useful for counters, constants, or utility functions.\n",
      "Sequence: [43, 8, 109, 110, 9, 4, 3, 111, 4, 112, 2, 38, 113, 23, 44, 11, 114, 115, 28, 116, 18]\n",
      "----\n",
      "Sentence: \n",
      "Sequence: []\n",
      "----\n",
      "Sentence: static is useful for tracking shared data (e.g., total accounts, user count, object instances).\n",
      "Sequence: [2, 7, 44, 11, 117, 43, 8, 118, 119, 120, 121, 32, 122, 10, 123]\n",
      "----\n",
      "Sentence: static functions can be called without creating an object.\n",
      "Sequence: [2, 18, 17, 27, 42, 21, 30, 16, 10]\n",
      "----\n",
      "Sentence: It reduces memory usage by ensuring only one copy of the variable exists.\n",
      "Sequence: [23, 124, 31, 125, 15, 126, 127, 34, 128, 9, 4, 29, 129]\n",
      "----\n"
     ]
    }
   ],
   "source": [
    "# step3 : convert the text to sequences\n",
    "for sentence in cpp.split('\\n'):\n",
    "    sequence = tokenizer.texts_to_sequences([sentence])\n",
    "    print(f\"Sentence: {sentence.strip()}\")\n",
    "    print(f\"Sequence: {sequence[0]}\")\n",
    "    print(\"----\")"
   ]
  },
  {
   "cell_type": "code",
   "execution_count": 10,
   "metadata": {},
   "outputs": [],
   "source": [
    "# step 4 : convert the sequence to dataset\n",
    "input_sequences = []\n",
    "for sentence in cpp.split('\\n'):\n",
    "    sequence = tokenizer.texts_to_sequences([sentence])[0]\n",
    "    \n",
    "    for i in range(1, len(sequence)):\n",
    "        n_gram_sequence = sequence[:i+1]\n",
    "        input_sequences.append(n_gram_sequence)\n"
   ]
  },
  {
   "cell_type": "code",
   "execution_count": 11,
   "metadata": {},
   "outputs": [
    {
     "data": {
      "text/plain": [
       "[[5, 19], [5, 19, 1], [5, 19, 1, 6], [5, 19, 1, 6, 45], [5, 19, 1, 6, 45, 11]]"
      ]
     },
     "execution_count": 11,
     "metadata": {},
     "output_type": "execute_result"
    }
   ],
   "source": [
    "input_sequences[:5]  # Display the first 5 sequences"
   ]
  },
  {
   "cell_type": "code",
   "execution_count": 13,
   "metadata": {},
   "outputs": [
    {
     "data": {
      "text/plain": [
       "30"
      ]
     },
     "execution_count": 13,
     "metadata": {},
     "output_type": "execute_result"
    }
   ],
   "source": [
    "max([len(x) for x in input_sequences])  # Check the lengths of the sequences"
   ]
  },
  {
   "cell_type": "code",
   "execution_count": 15,
   "metadata": {},
   "outputs": [],
   "source": [
    "# steo 5 : pad the sequences\n",
    "from tensorflow.keras.preprocessing.sequence import pad_sequences\n",
    "\n",
    "padded_input=pad_sequences(input_sequences, maxlen=30, padding='pre')"
   ]
  },
  {
   "cell_type": "code",
   "execution_count": 16,
   "metadata": {},
   "outputs": [
    {
     "data": {
      "text/plain": [
       "array([[  0,   0,   0, ...,   0,   5,  19],\n",
       "       [  0,   0,   0, ...,   5,  19,   1],\n",
       "       [  0,   0,   0, ...,  19,   1,   6],\n",
       "       ...,\n",
       "       [  0,   0,   0, ..., 128,   9,   4],\n",
       "       [  0,   0,   0, ...,   9,   4,  29],\n",
       "       [  0,   0,   0, ...,   4,  29, 129]])"
      ]
     },
     "execution_count": 16,
     "metadata": {},
     "output_type": "execute_result"
    }
   ],
   "source": [
    "padded_input"
   ]
  },
  {
   "cell_type": "code",
   "execution_count": 17,
   "metadata": {},
   "outputs": [],
   "source": [
    "X=padded_input[:,:-1]  # Features (input sequences)\n",
    "y=padded_input[:,-1]  # Labels (next words)"
   ]
  },
  {
   "cell_type": "code",
   "execution_count": 18,
   "metadata": {},
   "outputs": [
    {
     "data": {
      "text/plain": [
       "array([[  0,   0,   0, ...,   0,   0,   5],\n",
       "       [  0,   0,   0, ...,   0,   5,  19],\n",
       "       [  0,   0,   0, ...,   5,  19,   1],\n",
       "       ...,\n",
       "       [  0,   0,   0, ...,  34, 128,   9],\n",
       "       [  0,   0,   0, ..., 128,   9,   4],\n",
       "       [  0,   0,   0, ...,   9,   4,  29]])"
      ]
     },
     "execution_count": 18,
     "metadata": {},
     "output_type": "execute_result"
    }
   ],
   "source": [
    "X"
   ]
  },
  {
   "cell_type": "code",
   "execution_count": 19,
   "metadata": {},
   "outputs": [
    {
     "data": {
      "text/plain": [
       "array([ 19,   1,   6,  45,  11,  46,   7,   1,  32,  47,   8,  48,  22,\n",
       "        49,  50,  33,   9,  51,   8,  52,  53,  34,  54,  23,   7,  55,\n",
       "        14,   1,   3,  57,  58,  59,  60,  15,  20,   4,  12,   9,   1,\n",
       "         6,  13,  24,  25,   5,   1,   3,  35,  13,  36,  13,  24,  15,\n",
       "        20,  62,   6,  12,  63,  37,  64,  16,  26,  65,  14,  27,  66,\n",
       "        67,   4,   6,  68,  38,  18,   6,   5,  19,  17,  69,  70,   8,\n",
       "        12,  39,  18,  71,   3,   7,  72,  40,  11,  73,   8,  74,  25,\n",
       "         3,   7,  75,  11,  76,   8,  77,  39,  10,  78,  79,   1,   6,\n",
       "        12,  13,  24,  15,  20,  25,   5,   1,   3,  35,  13,  36,  15,\n",
       "        20,   7,   2,   5,  19,  19,   4,   2,  81,   7,  40,  14,  82,\n",
       "        33,  28,  18,  22,  83,  14,   4,   3,  84,  85,  86,  14,  87,\n",
       "        88,  10,   9,   4,   3,  89,  90,  22,   2,  29,  91,  92,  93,\n",
       "        94,  95,  41,  96,   2,  41,  17,  27,  42,  21,  30,  16,  10,\n",
       "         9,   4,   3,  98,   2,  99,   2,  12,  13, 100,   5,   1, 101,\n",
       "       102,   5,  31,  37, 103,  11, 104,  10,  21,  16,  10, 105,  17,\n",
       "       106,   1,   2, 107,  28,  26,   1,   2,  29,  21,  30,  16, 108,\n",
       "         9,   4,   3,   8, 109, 110,   9,   4,   3, 111,   4, 112,   2,\n",
       "        38, 113,  23,  44,  11, 114, 115,  28, 116,  18,   7,  44,  11,\n",
       "       117,  43,   8, 118, 119, 120, 121,  32, 122,  10, 123,  18,  17,\n",
       "        27,  42,  21,  30,  16,  10, 124,  31, 125,  15, 126, 127,  34,\n",
       "       128,   9,   4,  29, 129])"
      ]
     },
     "execution_count": 19,
     "metadata": {},
     "output_type": "execute_result"
    }
   ],
   "source": [
    "y"
   ]
  },
  {
   "cell_type": "code",
   "execution_count": 20,
   "metadata": {},
   "outputs": [
    {
     "data": {
      "text/plain": [
       "(265, 29)"
      ]
     },
     "execution_count": 20,
     "metadata": {},
     "output_type": "execute_result"
    }
   ],
   "source": [
    "X.shape"
   ]
  },
  {
   "cell_type": "code",
   "execution_count": 21,
   "metadata": {},
   "outputs": [
    {
     "data": {
      "text/plain": [
       "(265,)"
      ]
     },
     "execution_count": 21,
     "metadata": {},
     "output_type": "execute_result"
    }
   ],
   "source": [
    "y.shape"
   ]
  },
  {
   "cell_type": "code",
   "execution_count": 22,
   "metadata": {},
   "outputs": [],
   "source": [
    "# step 6: convert the labels to one-hot encoding\n",
    "from tensorflow.keras.utils import to_categorical\n",
    "\n",
    "y = to_categorical(y, num_classes=len(tokenizer.word_index) + 1)"
   ]
  },
  {
   "cell_type": "code",
   "execution_count": 23,
   "metadata": {},
   "outputs": [
    {
     "data": {
      "text/plain": [
       "(265, 130)"
      ]
     },
     "execution_count": 23,
     "metadata": {},
     "output_type": "execute_result"
    }
   ],
   "source": [
    "y.shape"
   ]
  },
  {
   "cell_type": "code",
   "execution_count": 24,
   "metadata": {},
   "outputs": [
    {
     "data": {
      "text/plain": [
       "array([[0., 0., 0., ..., 0., 0., 0.],\n",
       "       [0., 1., 0., ..., 0., 0., 0.],\n",
       "       [0., 0., 0., ..., 0., 0., 0.],\n",
       "       ...,\n",
       "       [0., 0., 0., ..., 0., 0., 0.],\n",
       "       [0., 0., 0., ..., 0., 0., 0.],\n",
       "       [0., 0., 0., ..., 0., 0., 1.]])"
      ]
     },
     "execution_count": 24,
     "metadata": {},
     "output_type": "execute_result"
    }
   ],
   "source": [
    "y"
   ]
  },
  {
   "cell_type": "code",
   "execution_count": 27,
   "metadata": {},
   "outputs": [],
   "source": [
    "# step 7: create the model RNN\n",
    "from tensorflow.keras.models import Sequential\n",
    "from tensorflow.keras.layers import Embedding, SimpleRNN, Dense,LSTM"
   ]
  },
  {
   "cell_type": "code",
   "execution_count": 28,
   "metadata": {},
   "outputs": [],
   "source": [
    "model = Sequential()\n",
    "model.add(Embedding(input_dim=len(tokenizer.word_index) + 1, output_dim=10, input_length=X.shape[1]))\n",
    "model.add(LSTM(100))   \n",
    "model.add(Dense(len(tokenizer.word_index) + 1, activation='softmax'))"
   ]
  },
  {
   "cell_type": "code",
   "execution_count": 29,
   "metadata": {},
   "outputs": [],
   "source": [
    "model.compile(loss='categorical_crossentropy', optimizer='adam', metrics=['accuracy'])"
   ]
  },
  {
   "cell_type": "code",
   "execution_count": 31,
   "metadata": {},
   "outputs": [
    {
     "data": {
      "text/html": [
       "<pre style=\"white-space:pre;overflow-x:auto;line-height:normal;font-family:Menlo,'DejaVu Sans Mono',consolas,'Courier New',monospace\"><span style=\"font-weight: bold\">Model: \"sequential_1\"</span>\n",
       "</pre>\n"
      ],
      "text/plain": [
       "\u001b[1mModel: \"sequential_1\"\u001b[0m\n"
      ]
     },
     "metadata": {},
     "output_type": "display_data"
    },
    {
     "data": {
      "text/html": [
       "<pre style=\"white-space:pre;overflow-x:auto;line-height:normal;font-family:Menlo,'DejaVu Sans Mono',consolas,'Courier New',monospace\">┏━━━━━━━━━━━━━━━━━━━━━━━━━━━━━━━━━┳━━━━━━━━━━━━━━━━━━━━━━━━┳━━━━━━━━━━━━━━━┓\n",
       "┃<span style=\"font-weight: bold\"> Layer (type)                    </span>┃<span style=\"font-weight: bold\"> Output Shape           </span>┃<span style=\"font-weight: bold\">       Param # </span>┃\n",
       "┡━━━━━━━━━━━━━━━━━━━━━━━━━━━━━━━━━╇━━━━━━━━━━━━━━━━━━━━━━━━╇━━━━━━━━━━━━━━━┩\n",
       "│ embedding_1 (<span style=\"color: #0087ff; text-decoration-color: #0087ff\">Embedding</span>)         │ ?                      │   <span style=\"color: #00af00; text-decoration-color: #00af00\">0</span> (unbuilt) │\n",
       "├─────────────────────────────────┼────────────────────────┼───────────────┤\n",
       "│ lstm (<span style=\"color: #0087ff; text-decoration-color: #0087ff\">LSTM</span>)                     │ ?                      │   <span style=\"color: #00af00; text-decoration-color: #00af00\">0</span> (unbuilt) │\n",
       "├─────────────────────────────────┼────────────────────────┼───────────────┤\n",
       "│ dense (<span style=\"color: #0087ff; text-decoration-color: #0087ff\">Dense</span>)                   │ ?                      │   <span style=\"color: #00af00; text-decoration-color: #00af00\">0</span> (unbuilt) │\n",
       "└─────────────────────────────────┴────────────────────────┴───────────────┘\n",
       "</pre>\n"
      ],
      "text/plain": [
       "┏━━━━━━━━━━━━━━━━━━━━━━━━━━━━━━━━━┳━━━━━━━━━━━━━━━━━━━━━━━━┳━━━━━━━━━━━━━━━┓\n",
       "┃\u001b[1m \u001b[0m\u001b[1mLayer (type)                   \u001b[0m\u001b[1m \u001b[0m┃\u001b[1m \u001b[0m\u001b[1mOutput Shape          \u001b[0m\u001b[1m \u001b[0m┃\u001b[1m \u001b[0m\u001b[1m      Param #\u001b[0m\u001b[1m \u001b[0m┃\n",
       "┡━━━━━━━━━━━━━━━━━━━━━━━━━━━━━━━━━╇━━━━━━━━━━━━━━━━━━━━━━━━╇━━━━━━━━━━━━━━━┩\n",
       "│ embedding_1 (\u001b[38;5;33mEmbedding\u001b[0m)         │ ?                      │   \u001b[38;5;34m0\u001b[0m (unbuilt) │\n",
       "├─────────────────────────────────┼────────────────────────┼───────────────┤\n",
       "│ lstm (\u001b[38;5;33mLSTM\u001b[0m)                     │ ?                      │   \u001b[38;5;34m0\u001b[0m (unbuilt) │\n",
       "├─────────────────────────────────┼────────────────────────┼───────────────┤\n",
       "│ dense (\u001b[38;5;33mDense\u001b[0m)                   │ ?                      │   \u001b[38;5;34m0\u001b[0m (unbuilt) │\n",
       "└─────────────────────────────────┴────────────────────────┴───────────────┘\n"
      ]
     },
     "metadata": {},
     "output_type": "display_data"
    },
    {
     "data": {
      "text/html": [
       "<pre style=\"white-space:pre;overflow-x:auto;line-height:normal;font-family:Menlo,'DejaVu Sans Mono',consolas,'Courier New',monospace\"><span style=\"font-weight: bold\"> Total params: </span><span style=\"color: #00af00; text-decoration-color: #00af00\">0</span> (0.00 B)\n",
       "</pre>\n"
      ],
      "text/plain": [
       "\u001b[1m Total params: \u001b[0m\u001b[38;5;34m0\u001b[0m (0.00 B)\n"
      ]
     },
     "metadata": {},
     "output_type": "display_data"
    },
    {
     "data": {
      "text/html": [
       "<pre style=\"white-space:pre;overflow-x:auto;line-height:normal;font-family:Menlo,'DejaVu Sans Mono',consolas,'Courier New',monospace\"><span style=\"font-weight: bold\"> Trainable params: </span><span style=\"color: #00af00; text-decoration-color: #00af00\">0</span> (0.00 B)\n",
       "</pre>\n"
      ],
      "text/plain": [
       "\u001b[1m Trainable params: \u001b[0m\u001b[38;5;34m0\u001b[0m (0.00 B)\n"
      ]
     },
     "metadata": {},
     "output_type": "display_data"
    },
    {
     "data": {
      "text/html": [
       "<pre style=\"white-space:pre;overflow-x:auto;line-height:normal;font-family:Menlo,'DejaVu Sans Mono',consolas,'Courier New',monospace\"><span style=\"font-weight: bold\"> Non-trainable params: </span><span style=\"color: #00af00; text-decoration-color: #00af00\">0</span> (0.00 B)\n",
       "</pre>\n"
      ],
      "text/plain": [
       "\u001b[1m Non-trainable params: \u001b[0m\u001b[38;5;34m0\u001b[0m (0.00 B)\n"
      ]
     },
     "metadata": {},
     "output_type": "display_data"
    }
   ],
   "source": [
    "model.summary()"
   ]
  },
  {
   "cell_type": "code",
   "execution_count": 32,
   "metadata": {},
   "outputs": [
    {
     "name": "stdout",
     "output_type": "stream",
     "text": [
      "Epoch 1/100\n",
      "\u001b[1m9/9\u001b[0m \u001b[32m━━━━━━━━━━━━━━━━━━━━\u001b[0m\u001b[37m\u001b[0m \u001b[1m3s\u001b[0m 16ms/step - accuracy: 0.0165 - loss: 4.8667\n",
      "Epoch 2/100\n",
      "\u001b[1m9/9\u001b[0m \u001b[32m━━━━━━━━━━━━━━━━━━━━\u001b[0m\u001b[37m\u001b[0m \u001b[1m0s\u001b[0m 12ms/step - accuracy: 0.0375 - loss: 4.8515\n",
      "Epoch 3/100\n",
      "\u001b[1m9/9\u001b[0m \u001b[32m━━━━━━━━━━━━━━━━━━━━\u001b[0m\u001b[37m\u001b[0m \u001b[1m0s\u001b[0m 13ms/step - accuracy: 0.0329 - loss: 4.7470\n",
      "Epoch 4/100\n",
      "\u001b[1m9/9\u001b[0m \u001b[32m━━━━━━━━━━━━━━━━━━━━\u001b[0m\u001b[37m\u001b[0m \u001b[1m0s\u001b[0m 12ms/step - accuracy: 0.0276 - loss: 4.5933\n",
      "Epoch 5/100\n",
      "\u001b[1m9/9\u001b[0m \u001b[32m━━━━━━━━━━━━━━━━━━━━\u001b[0m\u001b[37m\u001b[0m \u001b[1m0s\u001b[0m 13ms/step - accuracy: 0.0364 - loss: 4.4798\n",
      "Epoch 6/100\n",
      "\u001b[1m9/9\u001b[0m \u001b[32m━━━━━━━━━━━━━━━━━━━━\u001b[0m\u001b[37m\u001b[0m \u001b[1m0s\u001b[0m 11ms/step - accuracy: 0.0305 - loss: 4.5225\n",
      "Epoch 7/100\n",
      "\u001b[1m9/9\u001b[0m \u001b[32m━━━━━━━━━━━━━━━━━━━━\u001b[0m\u001b[37m\u001b[0m \u001b[1m0s\u001b[0m 12ms/step - accuracy: 0.0472 - loss: 4.4838\n",
      "Epoch 8/100\n",
      "\u001b[1m9/9\u001b[0m \u001b[32m━━━━━━━━━━━━━━━━━━━━\u001b[0m\u001b[37m\u001b[0m \u001b[1m0s\u001b[0m 11ms/step - accuracy: 0.0360 - loss: 4.5376\n",
      "Epoch 9/100\n",
      "\u001b[1m9/9\u001b[0m \u001b[32m━━━━━━━━━━━━━━━━━━━━\u001b[0m\u001b[37m\u001b[0m \u001b[1m0s\u001b[0m 14ms/step - accuracy: 0.0455 - loss: 4.4209\n",
      "Epoch 10/100\n",
      "\u001b[1m9/9\u001b[0m \u001b[32m━━━━━━━━━━━━━━━━━━━━\u001b[0m\u001b[37m\u001b[0m \u001b[1m0s\u001b[0m 19ms/step - accuracy: 0.0572 - loss: 4.4714\n",
      "Epoch 11/100\n",
      "\u001b[1m9/9\u001b[0m \u001b[32m━━━━━━━━━━━━━━━━━━━━\u001b[0m\u001b[37m\u001b[0m \u001b[1m0s\u001b[0m 16ms/step - accuracy: 0.0553 - loss: 4.4477\n",
      "Epoch 12/100\n",
      "\u001b[1m9/9\u001b[0m \u001b[32m━━━━━━━━━━━━━━━━━━━━\u001b[0m\u001b[37m\u001b[0m \u001b[1m0s\u001b[0m 19ms/step - accuracy: 0.0371 - loss: 4.4086\n",
      "Epoch 13/100\n",
      "\u001b[1m9/9\u001b[0m \u001b[32m━━━━━━━━━━━━━━━━━━━━\u001b[0m\u001b[37m\u001b[0m \u001b[1m0s\u001b[0m 12ms/step - accuracy: 0.0514 - loss: 4.3672\n",
      "Epoch 14/100\n",
      "\u001b[1m9/9\u001b[0m \u001b[32m━━━━━━━━━━━━━━━━━━━━\u001b[0m\u001b[37m\u001b[0m \u001b[1m0s\u001b[0m 12ms/step - accuracy: 0.0624 - loss: 4.2949\n",
      "Epoch 15/100\n",
      "\u001b[1m9/9\u001b[0m \u001b[32m━━━━━━━━━━━━━━━━━━━━\u001b[0m\u001b[37m\u001b[0m \u001b[1m0s\u001b[0m 14ms/step - accuracy: 0.0642 - loss: 4.2912\n",
      "Epoch 16/100\n",
      "\u001b[1m9/9\u001b[0m \u001b[32m━━━━━━━━━━━━━━━━━━━━\u001b[0m\u001b[37m\u001b[0m \u001b[1m0s\u001b[0m 14ms/step - accuracy: 0.0414 - loss: 4.3407  \n",
      "Epoch 17/100\n",
      "\u001b[1m9/9\u001b[0m \u001b[32m━━━━━━━━━━━━━━━━━━━━\u001b[0m\u001b[37m\u001b[0m \u001b[1m0s\u001b[0m 10ms/step - accuracy: 0.0667 - loss: 4.2125\n",
      "Epoch 18/100\n",
      "\u001b[1m9/9\u001b[0m \u001b[32m━━━━━━━━━━━━━━━━━━━━\u001b[0m\u001b[37m\u001b[0m \u001b[1m0s\u001b[0m 11ms/step - accuracy: 0.0779 - loss: 4.2054\n",
      "Epoch 19/100\n",
      "\u001b[1m9/9\u001b[0m \u001b[32m━━━━━━━━━━━━━━━━━━━━\u001b[0m\u001b[37m\u001b[0m \u001b[1m0s\u001b[0m 11ms/step - accuracy: 0.0837 - loss: 4.1124\n",
      "Epoch 20/100\n",
      "\u001b[1m9/9\u001b[0m \u001b[32m━━━━━━━━━━━━━━━━━━━━\u001b[0m\u001b[37m\u001b[0m \u001b[1m0s\u001b[0m 13ms/step - accuracy: 0.0587 - loss: 4.1538\n",
      "Epoch 21/100\n",
      "\u001b[1m9/9\u001b[0m \u001b[32m━━━━━━━━━━━━━━━━━━━━\u001b[0m\u001b[37m\u001b[0m \u001b[1m0s\u001b[0m 11ms/step - accuracy: 0.0748 - loss: 4.1429\n",
      "Epoch 22/100\n",
      "\u001b[1m9/9\u001b[0m \u001b[32m━━━━━━━━━━━━━━━━━━━━\u001b[0m\u001b[37m\u001b[0m \u001b[1m0s\u001b[0m 12ms/step - accuracy: 0.0870 - loss: 4.0714\n",
      "Epoch 23/100\n",
      "\u001b[1m9/9\u001b[0m \u001b[32m━━━━━━━━━━━━━━━━━━━━\u001b[0m\u001b[37m\u001b[0m \u001b[1m0s\u001b[0m 12ms/step - accuracy: 0.0733 - loss: 4.0463\n",
      "Epoch 24/100\n",
      "\u001b[1m9/9\u001b[0m \u001b[32m━━━━━━━━━━━━━━━━━━━━\u001b[0m\u001b[37m\u001b[0m \u001b[1m0s\u001b[0m 11ms/step - accuracy: 0.0525 - loss: 4.0599\n",
      "Epoch 25/100\n",
      "\u001b[1m9/9\u001b[0m \u001b[32m━━━━━━━━━━━━━━━━━━━━\u001b[0m\u001b[37m\u001b[0m \u001b[1m0s\u001b[0m 11ms/step - accuracy: 0.0638 - loss: 3.9800\n",
      "Epoch 26/100\n",
      "\u001b[1m9/9\u001b[0m \u001b[32m━━━━━━━━━━━━━━━━━━━━\u001b[0m\u001b[37m\u001b[0m \u001b[1m0s\u001b[0m 12ms/step - accuracy: 0.0825 - loss: 3.9047\n",
      "Epoch 27/100\n",
      "\u001b[1m9/9\u001b[0m \u001b[32m━━━━━━━━━━━━━━━━━━━━\u001b[0m\u001b[37m\u001b[0m \u001b[1m0s\u001b[0m 10ms/step - accuracy: 0.0715 - loss: 3.9644\n",
      "Epoch 28/100\n",
      "\u001b[1m9/9\u001b[0m \u001b[32m━━━━━━━━━━━━━━━━━━━━\u001b[0m\u001b[37m\u001b[0m \u001b[1m0s\u001b[0m 11ms/step - accuracy: 0.0813 - loss: 3.9522\n",
      "Epoch 29/100\n",
      "\u001b[1m9/9\u001b[0m \u001b[32m━━━━━━━━━━━━━━━━━━━━\u001b[0m\u001b[37m\u001b[0m \u001b[1m0s\u001b[0m 13ms/step - accuracy: 0.1188 - loss: 3.8591\n",
      "Epoch 30/100\n",
      "\u001b[1m9/9\u001b[0m \u001b[32m━━━━━━━━━━━━━━━━━━━━\u001b[0m\u001b[37m\u001b[0m \u001b[1m0s\u001b[0m 14ms/step - accuracy: 0.0984 - loss: 3.8038\n",
      "Epoch 31/100\n",
      "\u001b[1m9/9\u001b[0m \u001b[32m━━━━━━━━━━━━━━━━━━━━\u001b[0m\u001b[37m\u001b[0m \u001b[1m0s\u001b[0m 17ms/step - accuracy: 0.0702 - loss: 3.8768\n",
      "Epoch 32/100\n",
      "\u001b[1m9/9\u001b[0m \u001b[32m━━━━━━━━━━━━━━━━━━━━\u001b[0m\u001b[37m\u001b[0m \u001b[1m0s\u001b[0m 23ms/step - accuracy: 0.0856 - loss: 3.7786\n",
      "Epoch 33/100\n",
      "\u001b[1m9/9\u001b[0m \u001b[32m━━━━━━━━━━━━━━━━━━━━\u001b[0m\u001b[37m\u001b[0m \u001b[1m0s\u001b[0m 11ms/step - accuracy: 0.0775 - loss: 3.7995\n",
      "Epoch 34/100\n",
      "\u001b[1m9/9\u001b[0m \u001b[32m━━━━━━━━━━━━━━━━━━━━\u001b[0m\u001b[37m\u001b[0m \u001b[1m0s\u001b[0m 15ms/step - accuracy: 0.1109 - loss: 3.6510\n",
      "Epoch 35/100\n",
      "\u001b[1m9/9\u001b[0m \u001b[32m━━━━━━━━━━━━━━━━━━━━\u001b[0m\u001b[37m\u001b[0m \u001b[1m0s\u001b[0m 23ms/step - accuracy: 0.1053 - loss: 3.6854\n",
      "Epoch 36/100\n",
      "\u001b[1m9/9\u001b[0m \u001b[32m━━━━━━━━━━━━━━━━━━━━\u001b[0m\u001b[37m\u001b[0m \u001b[1m0s\u001b[0m 17ms/step - accuracy: 0.0820 - loss: 3.6660\n",
      "Epoch 37/100\n",
      "\u001b[1m9/9\u001b[0m \u001b[32m━━━━━━━━━━━━━━━━━━━━\u001b[0m\u001b[37m\u001b[0m \u001b[1m0s\u001b[0m 26ms/step - accuracy: 0.0871 - loss: 3.5996\n",
      "Epoch 38/100\n",
      "\u001b[1m9/9\u001b[0m \u001b[32m━━━━━━━━━━━━━━━━━━━━\u001b[0m\u001b[37m\u001b[0m \u001b[1m0s\u001b[0m 24ms/step - accuracy: 0.1366 - loss: 3.5219\n",
      "Epoch 39/100\n",
      "\u001b[1m9/9\u001b[0m \u001b[32m━━━━━━━━━━━━━━━━━━━━\u001b[0m\u001b[37m\u001b[0m \u001b[1m0s\u001b[0m 18ms/step - accuracy: 0.1323 - loss: 3.5168\n",
      "Epoch 40/100\n",
      "\u001b[1m9/9\u001b[0m \u001b[32m━━━━━━━━━━━━━━━━━━━━\u001b[0m\u001b[37m\u001b[0m \u001b[1m0s\u001b[0m 26ms/step - accuracy: 0.1295 - loss: 3.4983\n",
      "Epoch 41/100\n",
      "\u001b[1m9/9\u001b[0m \u001b[32m━━━━━━━━━━━━━━━━━━━━\u001b[0m\u001b[37m\u001b[0m \u001b[1m0s\u001b[0m 25ms/step - accuracy: 0.1458 - loss: 3.4299\n",
      "Epoch 42/100\n",
      "\u001b[1m9/9\u001b[0m \u001b[32m━━━━━━━━━━━━━━━━━━━━\u001b[0m\u001b[37m\u001b[0m \u001b[1m0s\u001b[0m 19ms/step - accuracy: 0.1433 - loss: 3.4117\n",
      "Epoch 43/100\n",
      "\u001b[1m9/9\u001b[0m \u001b[32m━━━━━━━━━━━━━━━━━━━━\u001b[0m\u001b[37m\u001b[0m \u001b[1m0s\u001b[0m 18ms/step - accuracy: 0.1490 - loss: 3.3546\n",
      "Epoch 44/100\n",
      "\u001b[1m9/9\u001b[0m \u001b[32m━━━━━━━━━━━━━━━━━━━━\u001b[0m\u001b[37m\u001b[0m \u001b[1m0s\u001b[0m 24ms/step - accuracy: 0.1293 - loss: 3.3447\n",
      "Epoch 45/100\n",
      "\u001b[1m9/9\u001b[0m \u001b[32m━━━━━━━━━━━━━━━━━━━━\u001b[0m\u001b[37m\u001b[0m \u001b[1m0s\u001b[0m 15ms/step - accuracy: 0.1570 - loss: 3.3021\n",
      "Epoch 46/100\n",
      "\u001b[1m9/9\u001b[0m \u001b[32m━━━━━━━━━━━━━━━━━━━━\u001b[0m\u001b[37m\u001b[0m \u001b[1m0s\u001b[0m 14ms/step - accuracy: 0.1842 - loss: 3.2514\n",
      "Epoch 47/100\n",
      "\u001b[1m9/9\u001b[0m \u001b[32m━━━━━━━━━━━━━━━━━━━━\u001b[0m\u001b[37m\u001b[0m \u001b[1m0s\u001b[0m 23ms/step - accuracy: 0.1645 - loss: 3.2726\n",
      "Epoch 48/100\n",
      "\u001b[1m9/9\u001b[0m \u001b[32m━━━━━━━━━━━━━━━━━━━━\u001b[0m\u001b[37m\u001b[0m \u001b[1m0s\u001b[0m 24ms/step - accuracy: 0.1941 - loss: 3.2066\n",
      "Epoch 49/100\n",
      "\u001b[1m9/9\u001b[0m \u001b[32m━━━━━━━━━━━━━━━━━━━━\u001b[0m\u001b[37m\u001b[0m \u001b[1m0s\u001b[0m 26ms/step - accuracy: 0.1566 - loss: 3.2153\n",
      "Epoch 50/100\n",
      "\u001b[1m9/9\u001b[0m \u001b[32m━━━━━━━━━━━━━━━━━━━━\u001b[0m\u001b[37m\u001b[0m \u001b[1m0s\u001b[0m 25ms/step - accuracy: 0.1770 - loss: 3.1584\n",
      "Epoch 51/100\n",
      "\u001b[1m9/9\u001b[0m \u001b[32m━━━━━━━━━━━━━━━━━━━━\u001b[0m\u001b[37m\u001b[0m \u001b[1m0s\u001b[0m 26ms/step - accuracy: 0.1967 - loss: 3.1086\n",
      "Epoch 52/100\n",
      "\u001b[1m9/9\u001b[0m \u001b[32m━━━━━━━━━━━━━━━━━━━━\u001b[0m\u001b[37m\u001b[0m \u001b[1m0s\u001b[0m 25ms/step - accuracy: 0.1714 - loss: 3.1229\n",
      "Epoch 53/100\n",
      "\u001b[1m9/9\u001b[0m \u001b[32m━━━━━━━━━━━━━━━━━━━━\u001b[0m\u001b[37m\u001b[0m \u001b[1m0s\u001b[0m 15ms/step - accuracy: 0.2161 - loss: 2.9942\n",
      "Epoch 54/100\n",
      "\u001b[1m9/9\u001b[0m \u001b[32m━━━━━━━━━━━━━━━━━━━━\u001b[0m\u001b[37m\u001b[0m \u001b[1m0s\u001b[0m 23ms/step - accuracy: 0.2308 - loss: 2.9942\n",
      "Epoch 55/100\n",
      "\u001b[1m9/9\u001b[0m \u001b[32m━━━━━━━━━━━━━━━━━━━━\u001b[0m\u001b[37m\u001b[0m \u001b[1m0s\u001b[0m 18ms/step - accuracy: 0.2469 - loss: 2.9598\n",
      "Epoch 56/100\n",
      "\u001b[1m9/9\u001b[0m \u001b[32m━━━━━━━━━━━━━━━━━━━━\u001b[0m\u001b[37m\u001b[0m \u001b[1m0s\u001b[0m 25ms/step - accuracy: 0.2298 - loss: 2.9528\n",
      "Epoch 57/100\n",
      "\u001b[1m9/9\u001b[0m \u001b[32m━━━━━━━━━━━━━━━━━━━━\u001b[0m\u001b[37m\u001b[0m \u001b[1m0s\u001b[0m 26ms/step - accuracy: 0.2849 - loss: 2.8434\n",
      "Epoch 58/100\n",
      "\u001b[1m9/9\u001b[0m \u001b[32m━━━━━━━━━━━━━━━━━━━━\u001b[0m\u001b[37m\u001b[0m \u001b[1m0s\u001b[0m 16ms/step - accuracy: 0.2859 - loss: 2.8710\n",
      "Epoch 59/100\n",
      "\u001b[1m9/9\u001b[0m \u001b[32m━━━━━━━━━━━━━━━━━━━━\u001b[0m\u001b[37m\u001b[0m \u001b[1m0s\u001b[0m 26ms/step - accuracy: 0.2974 - loss: 2.8347\n",
      "Epoch 60/100\n",
      "\u001b[1m9/9\u001b[0m \u001b[32m━━━━━━━━━━━━━━━━━━━━\u001b[0m\u001b[37m\u001b[0m \u001b[1m0s\u001b[0m 23ms/step - accuracy: 0.2511 - loss: 2.8122\n",
      "Epoch 61/100\n",
      "\u001b[1m9/9\u001b[0m \u001b[32m━━━━━━━━━━━━━━━━━━━━\u001b[0m\u001b[37m\u001b[0m \u001b[1m0s\u001b[0m 19ms/step - accuracy: 0.2460 - loss: 2.8610\n",
      "Epoch 62/100\n",
      "\u001b[1m9/9\u001b[0m \u001b[32m━━━━━━━━━━━━━━━━━━━━\u001b[0m\u001b[37m\u001b[0m \u001b[1m0s\u001b[0m 13ms/step - accuracy: 0.2712 - loss: 2.7113\n",
      "Epoch 63/100\n",
      "\u001b[1m9/9\u001b[0m \u001b[32m━━━━━━━━━━━━━━━━━━━━\u001b[0m\u001b[37m\u001b[0m \u001b[1m0s\u001b[0m 27ms/step - accuracy: 0.3075 - loss: 2.6939\n",
      "Epoch 64/100\n",
      "\u001b[1m9/9\u001b[0m \u001b[32m━━━━━━━━━━━━━━━━━━━━\u001b[0m\u001b[37m\u001b[0m \u001b[1m0s\u001b[0m 28ms/step - accuracy: 0.2583 - loss: 2.7784\n",
      "Epoch 65/100\n",
      "\u001b[1m9/9\u001b[0m \u001b[32m━━━━━━━━━━━━━━━━━━━━\u001b[0m\u001b[37m\u001b[0m \u001b[1m0s\u001b[0m 27ms/step - accuracy: 0.2916 - loss: 2.7085\n",
      "Epoch 66/100\n",
      "\u001b[1m9/9\u001b[0m \u001b[32m━━━━━━━━━━━━━━━━━━━━\u001b[0m\u001b[37m\u001b[0m \u001b[1m0s\u001b[0m 26ms/step - accuracy: 0.2709 - loss: 2.6774\n",
      "Epoch 67/100\n",
      "\u001b[1m9/9\u001b[0m \u001b[32m━━━━━━━━━━━━━━━━━━━━\u001b[0m\u001b[37m\u001b[0m \u001b[1m0s\u001b[0m 26ms/step - accuracy: 0.3671 - loss: 2.5681\n",
      "Epoch 68/100\n",
      "\u001b[1m9/9\u001b[0m \u001b[32m━━━━━━━━━━━━━━━━━━━━\u001b[0m\u001b[37m\u001b[0m \u001b[1m0s\u001b[0m 31ms/step - accuracy: 0.3364 - loss: 2.6312\n",
      "Epoch 69/100\n",
      "\u001b[1m9/9\u001b[0m \u001b[32m━━━━━━━━━━━━━━━━━━━━\u001b[0m\u001b[37m\u001b[0m \u001b[1m0s\u001b[0m 15ms/step - accuracy: 0.3908 - loss: 2.5818\n",
      "Epoch 70/100\n",
      "\u001b[1m9/9\u001b[0m \u001b[32m━━━━━━━━━━━━━━━━━━━━\u001b[0m\u001b[37m\u001b[0m \u001b[1m0s\u001b[0m 13ms/step - accuracy: 0.3553 - loss: 2.5286\n",
      "Epoch 71/100\n",
      "\u001b[1m9/9\u001b[0m \u001b[32m━━━━━━━━━━━━━━━━━━━━\u001b[0m\u001b[37m\u001b[0m \u001b[1m0s\u001b[0m 13ms/step - accuracy: 0.3594 - loss: 2.5154\n",
      "Epoch 72/100\n",
      "\u001b[1m9/9\u001b[0m \u001b[32m━━━━━━━━━━━━━━━━━━━━\u001b[0m\u001b[37m\u001b[0m \u001b[1m0s\u001b[0m 22ms/step - accuracy: 0.3855 - loss: 2.4511\n",
      "Epoch 73/100\n",
      "\u001b[1m9/9\u001b[0m \u001b[32m━━━━━━━━━━━━━━━━━━━━\u001b[0m\u001b[37m\u001b[0m \u001b[1m0s\u001b[0m 15ms/step - accuracy: 0.3702 - loss: 2.4255\n",
      "Epoch 74/100\n",
      "\u001b[1m9/9\u001b[0m \u001b[32m━━━━━━━━━━━━━━━━━━━━\u001b[0m\u001b[37m\u001b[0m \u001b[1m0s\u001b[0m 28ms/step - accuracy: 0.3882 - loss: 2.4375\n",
      "Epoch 75/100\n",
      "\u001b[1m9/9\u001b[0m \u001b[32m━━━━━━━━━━━━━━━━━━━━\u001b[0m\u001b[37m\u001b[0m \u001b[1m0s\u001b[0m 18ms/step - accuracy: 0.4061 - loss: 2.4030\n",
      "Epoch 76/100\n",
      "\u001b[1m9/9\u001b[0m \u001b[32m━━━━━━━━━━━━━━━━━━━━\u001b[0m\u001b[37m\u001b[0m \u001b[1m0s\u001b[0m 16ms/step - accuracy: 0.4432 - loss: 2.3355\n",
      "Epoch 77/100\n",
      "\u001b[1m9/9\u001b[0m \u001b[32m━━━━━━━━━━━━━━━━━━━━\u001b[0m\u001b[37m\u001b[0m \u001b[1m0s\u001b[0m 17ms/step - accuracy: 0.4652 - loss: 2.2911\n",
      "Epoch 78/100\n",
      "\u001b[1m9/9\u001b[0m \u001b[32m━━━━━━━━━━━━━━━━━━━━\u001b[0m\u001b[37m\u001b[0m \u001b[1m0s\u001b[0m 16ms/step - accuracy: 0.4044 - loss: 2.2690\n",
      "Epoch 79/100\n",
      "\u001b[1m9/9\u001b[0m \u001b[32m━━━━━━━━━━━━━━━━━━━━\u001b[0m\u001b[37m\u001b[0m \u001b[1m0s\u001b[0m 18ms/step - accuracy: 0.4596 - loss: 2.2330\n",
      "Epoch 80/100\n",
      "\u001b[1m9/9\u001b[0m \u001b[32m━━━━━━━━━━━━━━━━━━━━\u001b[0m\u001b[37m\u001b[0m \u001b[1m0s\u001b[0m 15ms/step - accuracy: 0.5292 - loss: 2.1959\n",
      "Epoch 81/100\n",
      "\u001b[1m9/9\u001b[0m \u001b[32m━━━━━━━━━━━━━━━━━━━━\u001b[0m\u001b[37m\u001b[0m \u001b[1m0s\u001b[0m 15ms/step - accuracy: 0.4414 - loss: 2.2536\n",
      "Epoch 82/100\n",
      "\u001b[1m9/9\u001b[0m \u001b[32m━━━━━━━━━━━━━━━━━━━━\u001b[0m\u001b[37m\u001b[0m \u001b[1m0s\u001b[0m 16ms/step - accuracy: 0.4895 - loss: 2.2357\n",
      "Epoch 83/100\n",
      "\u001b[1m9/9\u001b[0m \u001b[32m━━━━━━━━━━━━━━━━━━━━\u001b[0m\u001b[37m\u001b[0m \u001b[1m0s\u001b[0m 15ms/step - accuracy: 0.5422 - loss: 2.1457\n",
      "Epoch 84/100\n",
      "\u001b[1m9/9\u001b[0m \u001b[32m━━━━━━━━━━━━━━━━━━━━\u001b[0m\u001b[37m\u001b[0m \u001b[1m0s\u001b[0m 16ms/step - accuracy: 0.4948 - loss: 2.1195\n",
      "Epoch 85/100\n",
      "\u001b[1m9/9\u001b[0m \u001b[32m━━━━━━━━━━━━━━━━━━━━\u001b[0m\u001b[37m\u001b[0m \u001b[1m0s\u001b[0m 16ms/step - accuracy: 0.5384 - loss: 2.0704\n",
      "Epoch 86/100\n",
      "\u001b[1m9/9\u001b[0m \u001b[32m━━━━━━━━━━━━━━━━━━━━\u001b[0m\u001b[37m\u001b[0m \u001b[1m0s\u001b[0m 15ms/step - accuracy: 0.5731 - loss: 2.0506\n",
      "Epoch 87/100\n",
      "\u001b[1m9/9\u001b[0m \u001b[32m━━━━━━━━━━━━━━━━━━━━\u001b[0m\u001b[37m\u001b[0m \u001b[1m0s\u001b[0m 15ms/step - accuracy: 0.6228 - loss: 1.9710\n",
      "Epoch 88/100\n",
      "\u001b[1m9/9\u001b[0m \u001b[32m━━━━━━━━━━━━━━━━━━━━\u001b[0m\u001b[37m\u001b[0m \u001b[1m0s\u001b[0m 16ms/step - accuracy: 0.5681 - loss: 1.9976\n",
      "Epoch 89/100\n",
      "\u001b[1m9/9\u001b[0m \u001b[32m━━━━━━━━━━━━━━━━━━━━\u001b[0m\u001b[37m\u001b[0m \u001b[1m0s\u001b[0m 18ms/step - accuracy: 0.6290 - loss: 1.9756\n",
      "Epoch 90/100\n",
      "\u001b[1m9/9\u001b[0m \u001b[32m━━━━━━━━━━━━━━━━━━━━\u001b[0m\u001b[37m\u001b[0m \u001b[1m0s\u001b[0m 16ms/step - accuracy: 0.6096 - loss: 1.9254\n",
      "Epoch 91/100\n",
      "\u001b[1m9/9\u001b[0m \u001b[32m━━━━━━━━━━━━━━━━━━━━\u001b[0m\u001b[37m\u001b[0m \u001b[1m0s\u001b[0m 13ms/step - accuracy: 0.5776 - loss: 1.9739\n",
      "Epoch 92/100\n",
      "\u001b[1m9/9\u001b[0m \u001b[32m━━━━━━━━━━━━━━━━━━━━\u001b[0m\u001b[37m\u001b[0m \u001b[1m0s\u001b[0m 15ms/step - accuracy: 0.5808 - loss: 1.9248\n",
      "Epoch 93/100\n",
      "\u001b[1m9/9\u001b[0m \u001b[32m━━━━━━━━━━━━━━━━━━━━\u001b[0m\u001b[37m\u001b[0m \u001b[1m0s\u001b[0m 23ms/step - accuracy: 0.5946 - loss: 1.9439\n",
      "Epoch 94/100\n",
      "\u001b[1m9/9\u001b[0m \u001b[32m━━━━━━━━━━━━━━━━━━━━\u001b[0m\u001b[37m\u001b[0m \u001b[1m0s\u001b[0m 13ms/step - accuracy: 0.6360 - loss: 1.8129\n",
      "Epoch 95/100\n",
      "\u001b[1m9/9\u001b[0m \u001b[32m━━━━━━━━━━━━━━━━━━━━\u001b[0m\u001b[37m\u001b[0m \u001b[1m0s\u001b[0m 15ms/step - accuracy: 0.5991 - loss: 1.8676\n",
      "Epoch 96/100\n",
      "\u001b[1m9/9\u001b[0m \u001b[32m━━━━━━━━━━━━━━━━━━━━\u001b[0m\u001b[37m\u001b[0m \u001b[1m0s\u001b[0m 16ms/step - accuracy: 0.5934 - loss: 1.8473\n",
      "Epoch 97/100\n",
      "\u001b[1m9/9\u001b[0m \u001b[32m━━━━━━━━━━━━━━━━━━━━\u001b[0m\u001b[37m\u001b[0m \u001b[1m0s\u001b[0m 17ms/step - accuracy: 0.6019 - loss: 1.8626\n",
      "Epoch 98/100\n",
      "\u001b[1m9/9\u001b[0m \u001b[32m━━━━━━━━━━━━━━━━━━━━\u001b[0m\u001b[37m\u001b[0m \u001b[1m0s\u001b[0m 14ms/step - accuracy: 0.6621 - loss: 1.8370\n",
      "Epoch 99/100\n",
      "\u001b[1m9/9\u001b[0m \u001b[32m━━━━━━━━━━━━━━━━━━━━\u001b[0m\u001b[37m\u001b[0m \u001b[1m0s\u001b[0m 19ms/step - accuracy: 0.6361 - loss: 1.7639\n",
      "Epoch 100/100\n",
      "\u001b[1m9/9\u001b[0m \u001b[32m━━━━━━━━━━━━━━━━━━━━\u001b[0m\u001b[37m\u001b[0m \u001b[1m0s\u001b[0m 13ms/step - accuracy: 0.6363 - loss: 1.7985\n"
     ]
    },
    {
     "data": {
      "text/plain": [
       "<keras.src.callbacks.history.History at 0x1e23bf6fc20>"
      ]
     },
     "execution_count": 32,
     "metadata": {},
     "output_type": "execute_result"
    }
   ],
   "source": [
    "model.fit(X, y, epochs=100, verbose=1)"
   ]
  },
  {
   "cell_type": "code",
   "execution_count": 35,
   "metadata": {},
   "outputs": [],
   "source": [
    "text = \"struct\"\n",
    "\n",
    "# tokenize the input text\n",
    "sequence = tokenizer.texts_to_sequences([text])[0]\n",
    "\n",
    "# pad the sequence\n",
    "padded_sequence = pad_sequences([sequence], maxlen=30, padding='pre')\n",
    "\n",
    "# predict the next word\n",
    "predicted = model.predict(padded_sequence, verbose=0)"
   ]
  },
  {
   "cell_type": "code",
   "execution_count": 36,
   "metadata": {},
   "outputs": [
    {
     "data": {
      "text/plain": [
       "(1, 130)"
      ]
     },
     "execution_count": 36,
     "metadata": {},
     "output_type": "execute_result"
    }
   ],
   "source": [
    "predicted.shape"
   ]
  },
  {
   "cell_type": "code",
   "execution_count": 37,
   "metadata": {},
   "outputs": [
    {
     "data": {
      "text/plain": [
       "array([[6.29430906e-06, 3.79857048e-02, 7.75526389e-02, 8.86314735e-03,\n",
       "        1.10464655e-02, 4.32707630e-02, 6.73732087e-02, 6.52578771e-02,\n",
       "        8.34724028e-03, 2.65747984e-03, 8.85247812e-03, 3.35576758e-03,\n",
       "        3.50720808e-02, 4.70448807e-02, 8.16076645e-04, 1.33979991e-02,\n",
       "        7.72563275e-03, 9.16553568e-03, 2.23168731e-02, 7.29017109e-02,\n",
       "        8.03470984e-03, 1.05555849e-02, 1.14927425e-04, 2.83351430e-04,\n",
       "        2.25590747e-02, 2.87707546e-03, 1.04474777e-03, 4.68476070e-03,\n",
       "        2.98431143e-04, 1.75480768e-02, 6.38871454e-04, 1.66324768e-02,\n",
       "        1.50563181e-04, 1.32220288e-04, 3.73655581e-04, 2.41061277e-03,\n",
       "        1.31749338e-03, 1.90142915e-03, 1.24828657e-02, 2.74327613e-04,\n",
       "        1.16656965e-03, 1.13506326e-02, 6.17087935e-04, 1.87613143e-04,\n",
       "        6.71785884e-03, 5.44627802e-03, 4.56092414e-04, 2.16714441e-04,\n",
       "        2.02966548e-04, 8.21999129e-05, 5.43642636e-05, 4.61180207e-05,\n",
       "        4.50699590e-05, 2.71948375e-05, 1.50392123e-04, 1.02337275e-04,\n",
       "        1.30379694e-05, 2.82930955e-02, 1.88560598e-02, 1.43941091e-02,\n",
       "        9.12409648e-03, 8.42060217e-06, 4.13617268e-02, 3.37745459e-03,\n",
       "        3.22119537e-04, 1.90662147e-04, 1.94255277e-04, 1.38731892e-04,\n",
       "        2.12664902e-02, 1.93142099e-03, 1.09282287e-03, 3.57178189e-02,\n",
       "        1.28890071e-02, 2.76831939e-04, 3.54845361e-05, 3.19146173e-04,\n",
       "        1.19766075e-04, 7.14797934e-05, 1.31218985e-04, 9.51250113e-05,\n",
       "        1.05684712e-05, 1.67952874e-03, 7.69773687e-05, 8.39366694e-05,\n",
       "        1.26272542e-04, 4.87184734e-05, 4.59824914e-05, 7.96820605e-05,\n",
       "        4.45979458e-05, 3.91449321e-05, 8.61312947e-05, 6.24300679e-03,\n",
       "        2.48305849e-03, 4.76402027e-04, 2.47114716e-04, 9.55383584e-05,\n",
       "        4.24181417e-05, 1.08191371e-05, 2.31670346e-02, 3.31667624e-02,\n",
       "        1.72857149e-03, 6.24108652e-04, 6.30880706e-04, 3.00148531e-04,\n",
       "        3.34262702e-04, 6.07944559e-03, 2.33310205e-03, 8.61400971e-04,\n",
       "        5.99751424e-04, 5.66536654e-03, 2.12377403e-03, 8.87702772e-05,\n",
       "        5.53122663e-04, 8.51926452e-05, 7.94273365e-05, 4.14909991e-05,\n",
       "        3.06850925e-05, 3.06486676e-04, 2.48486012e-05, 2.88716219e-05,\n",
       "        4.33517271e-05, 4.51652850e-05, 2.17545694e-05, 4.37010312e-05,\n",
       "        3.86652239e-02, 5.05240541e-03, 6.06565329e-04, 2.16497530e-04,\n",
       "        8.14233354e-05, 3.56065029e-05]], dtype=float32)"
      ]
     },
     "execution_count": 37,
     "metadata": {},
     "output_type": "execute_result"
    }
   ],
   "source": [
    "predicted"
   ]
  },
  {
   "cell_type": "code",
   "execution_count": 38,
   "metadata": {},
   "outputs": [],
   "source": [
    "import numpy as np\n",
    "predicted_word_index = np.argmax(predicted, axis=-1)[0]"
   ]
  },
  {
   "cell_type": "code",
   "execution_count": 39,
   "metadata": {},
   "outputs": [
    {
     "data": {
      "text/plain": [
       "2"
      ]
     },
     "execution_count": 39,
     "metadata": {},
     "output_type": "execute_result"
    }
   ],
   "source": [
    "predicted_word_index"
   ]
  },
  {
   "cell_type": "code",
   "execution_count": 41,
   "metadata": {},
   "outputs": [
    {
     "name": "stdout",
     "output_type": "stream",
     "text": [
      "Predicted word: static\n"
     ]
    }
   ],
   "source": [
    "for word, index in tokenizer.word_index.items():\n",
    "    if index == predicted_word_index:\n",
    "        print(f\"Predicted word: {word}\")\n",
    "        break"
   ]
  },
  {
   "cell_type": "code",
   "execution_count": 49,
   "metadata": {},
   "outputs": [
    {
     "name": "stdout",
     "output_type": "stream",
     "text": [
      "\u001b[1m1/1\u001b[0m \u001b[32m━━━━━━━━━━━━━━━━━━━━\u001b[0m\u001b[37m\u001b[0m \u001b[1m0s\u001b[0m 58ms/step\n",
      "struct is typically used for simple data structures g\n",
      "\u001b[1m1/1\u001b[0m \u001b[32m━━━━━━━━━━━━━━━━━━━━\u001b[0m\u001b[37m\u001b[0m \u001b[1m0s\u001b[0m 27ms/step\n",
      "struct is typically used for simple data structures g g\n",
      "\u001b[1m1/1\u001b[0m \u001b[32m━━━━━━━━━━━━━━━━━━━━\u001b[0m\u001b[37m\u001b[0m \u001b[1m0s\u001b[0m 31ms/step\n",
      "struct is typically used for simple data structures g g preferred\n",
      "\u001b[1m1/1\u001b[0m \u001b[32m━━━━━━━━━━━━━━━━━━━━\u001b[0m\u001b[37m\u001b[0m \u001b[1m0s\u001b[0m 28ms/step\n",
      "struct is typically used for simple data structures g g preferred preferred\n",
      "\u001b[1m1/1\u001b[0m \u001b[32m━━━━━━━━━━━━━━━━━━━━\u001b[0m\u001b[37m\u001b[0m \u001b[1m0s\u001b[0m 35ms/step\n",
      "struct is typically used for simple data structures g g preferred preferred preferred\n"
     ]
    }
   ],
   "source": [
    "text = \"struct is typically used for simple data structures\"\n",
    "import time\n",
    "for i in range(5):\n",
    "    \n",
    "    # tokenize the new text\n",
    "    sequence = tokenizer.texts_to_sequences([text])[0]\n",
    "    \n",
    "    # pad the sequence\n",
    "    padded_sequence = pad_sequences([sequence], maxlen=30, padding='pre')\n",
    "    \n",
    "    # predict the next word\n",
    "    \n",
    "    \n",
    "    predicted_word_index = np.argmax(model.predict(padded_sequence))\n",
    "    for word, index in tokenizer.word_index.items():\n",
    "        if index == predicted_word_index:\n",
    "            text += \" \" + word\n",
    "            print(text)\n",
    "            time.sleep(2)\n",
    "            "
   ]
  },
  {
   "cell_type": "code",
   "execution_count": 50,
   "metadata": {},
   "outputs": [],
   "source": [
    "# how to imporve the model\n",
    "# 1. Increase the number of epochs\n",
    "# 2. More data\n",
    "# 3.hyperparameter tuning\n",
    "# 4. Use a more complex model (e.g., stacked,bidrectional,,GPT,BERTLSTM, GRU, Transformer)"
   ]
  },
  {
   "cell_type": "code",
   "execution_count": null,
   "metadata": {},
   "outputs": [],
   "source": []
  }
 ],
 "metadata": {
  "kernelspec": {
   "display_name": "Python 3",
   "language": "python",
   "name": "python3"
  },
  "language_info": {
   "codemirror_mode": {
    "name": "ipython",
    "version": 3
   },
   "file_extension": ".py",
   "mimetype": "text/x-python",
   "name": "python",
   "nbconvert_exporter": "python",
   "pygments_lexer": "ipython3",
   "version": "3.12.2"
  }
 },
 "nbformat": 4,
 "nbformat_minor": 2
}
